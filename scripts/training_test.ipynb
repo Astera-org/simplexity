{
 "cells": [
  {
   "cell_type": "markdown",
   "metadata": {},
   "source": [
    "## Test Sweep Config\n"
   ]
  },
  {
   "cell_type": "code",
   "execution_count": 1,
   "metadata": {},
   "outputs": [
    {
     "name": "stdout",
     "output_type": "stream",
     "text": [
      "108\n",
      "{'learning_rate': 1e-05, 'batch_size': 32, 'n_layers': 1, 'd_model': 32, 'n_heads': 4}\n",
      "{'learning_rate': 1e-05, 'batch_size': 32, 'n_layers': 1, 'd_model': 32, 'n_heads': 8}\n",
      "{'learning_rate': 1e-05, 'batch_size': 32, 'n_layers': 1, 'd_model': 64, 'n_heads': 4}\n"
     ]
    }
   ],
   "source": [
    "from epsilon_transformers.configs.hyperparam_sweep_cfg import generate_hyperparam_combinations, hyperparams\n",
    "combos = list(generate_hyperparam_combinations(hyperparams))\n",
    "print(len(combos))  # Should print the total number of combinations\n",
    "for combo in combos[:3]:\n",
    "    print(combo)"
   ]
  },
  {
   "cell_type": "markdown",
   "metadata": {},
   "source": [
    "## Test Logger"
   ]
  },
  {
   "cell_type": "code",
   "execution_count": 2,
   "metadata": {},
   "outputs": [],
   "source": [
    "from epsilon_transformers.training.logger import CSVLogger\n",
    "logger = CSVLogger('test_log.csv', ['epoch', 'loss'])\n",
    "logger.log({'epoch': 1, 'loss': 0.5})\n",
    "logger.close()"
   ]
  },
  {
   "cell_type": "code",
   "execution_count": 3,
   "metadata": {},
   "outputs": [
    {
     "name": "stdout",
     "output_type": "stream",
     "text": [
      "   epoch  loss\n",
      "0      1   0.5\n"
     ]
    }
   ],
   "source": [
    "# open test_log.csv and check that it has the correct data\n",
    "import pandas as pd\n",
    "df = pd.read_csv('test_log.csv')\n",
    "print(df)"
   ]
  },
  {
   "cell_type": "markdown",
   "metadata": {},
   "source": [
    "## testing Training argparse"
   ]
  },
  {
   "cell_type": "code",
   "execution_count": 120,
   "metadata": {},
   "outputs": [],
   "source": [
    "# launcher.py\n",
    "\n",
    "import argparse\n",
    "import itertools\n",
    "import subprocess\n",
    "import yaml\n",
    "import os\n",
    "from datetime import datetime\n",
    "\n",
    "def load_config(config_path):\n",
    "    with open(config_path, 'r') as f:\n",
    "        return yaml.safe_load(f)\n",
    "\n",
    "def calculate_model_params(n_heads, d_attn):\n",
    "    d_model = d_attn * n_heads\n",
    "    d_mlp = 4 * d_model\n",
    "    return d_model, d_mlp\n",
    "\n",
    "def run_experiment(run_config, gpu_id):\n",
    "    cmd = [\n",
    "        'python', 'scripts/train.py',\n",
    "        '--config', run_config['config_path'],\n",
    "        '--gpu_id', str(gpu_id)\n",
    "    ]\n",
    "    subprocess.Popen(cmd)\n",
    "\n",
    "\n",
    "config = load_config('./experiment_config.yaml')\n"
   ]
  },
  {
   "cell_type": "code",
   "execution_count": 121,
   "metadata": {},
   "outputs": [
    {
     "data": {
      "text/plain": [
       "{'global_config': {'output_dir': './results'},\n",
       " 'train_config': {'batches_per_epoch': 100},\n",
       " 'model_config': {'n_ctx': 9,\n",
       "  'n_heads': 2,\n",
       "  'act_fn': 'relu',\n",
       "  'normalization_type': 'LN',\n",
       "  'attn_only': False,\n",
       "  'seed': 42,\n",
       "  'dtype': 'float32'},\n",
       " 'sweep_config': {'train_config': {'learning_rates': ['1e-4'],\n",
       "   'batch_sizes': [64]},\n",
       "  'model_config': {'d_head': [8],\n",
       "   'n_layers': [1, 2, 4, 8, 12],\n",
       "   'n_heads': [1, 2, 4, 8]},\n",
       "  'process_config': [{'name': 'post_quantum',\n",
       "    'params': {'alpha': 1.0, 'beta': 1.0}},\n",
       "   {'name': 'tom_quantum', 'params': {'alpha': 1.5, 'beta': 0.5}},\n",
       "   {'name': 'fanizza', 'params': {'alpha': 2.0, 'lamb': 0.7}},\n",
       "   {'name': 'rrxor', 'params': {'pR1': 0.5, 'pR2': 0.5}},\n",
       "   {'name': 'mess3', 'params': {'x': 0.2, 'a': 0.7}}]}}"
      ]
     },
     "execution_count": 121,
     "metadata": {},
     "output_type": "execute_result"
    }
   ],
   "source": [
    "config"
   ]
  },
  {
   "cell_type": "code",
   "execution_count": 122,
   "metadata": {},
   "outputs": [],
   "source": [
    "\n",
    "def create_config_sweep(config):\n",
    "    global_config = config.get('global_config', {})\n",
    "\n",
    "    model_config = config.get('model_config', {})\n",
    "    train_config = config.get('train_config', {})\n",
    "\n",
    "    sweep_config = config.get('sweep_config', {})\n",
    "    sweep_train_config = sweep_config.get('train_config', {})\n",
    "    sweep_model_config = sweep_config.get('model_config', {})\n",
    "    sweep_process_config = sweep_config.get('process_config', {})\n",
    "\n",
    "    # use itertools.product to create the combinations\n",
    "    model_config_combinations = [dict(zip(sweep_model_config.keys(), combination)) for combination in itertools.product(*sweep_model_config.values())]\n",
    "    train_config_combinations = [dict(zip(sweep_train_config.keys(), combination)) for combination in itertools.product(*sweep_train_config.values())]\n",
    "    # now append the constant values from the model_config and train_config\n",
    "    for cfg in model_config_combinations:\n",
    "        cfg.update(model_config)\n",
    "    for cfg in train_config_combinations:\n",
    "        cfg.update(train_config)\n",
    "\n",
    "\n",
    "    # Create a combined iterator\n",
    "    combined_config_iter = itertools.product(model_config_combinations, train_config_combinations, sweep_process_config)\n",
    "\n",
    "    # Create the final iterator of dict of dicts\n",
    "    config_sweep_iter = (\n",
    "        {\n",
    "            'global_config': global_config,\n",
    "            'model_config': model_cfg,\n",
    "            'train_config': train_cfg,\n",
    "            'process_config': process_cfg\n",
    "        }\n",
    "        for model_cfg, train_cfg, process_cfg in combined_config_iter\n",
    "    )\n",
    "    return config_sweep_iter\n"
   ]
  },
  {
   "cell_type": "code",
   "execution_count": 123,
   "metadata": {},
   "outputs": [
    {
     "name": "stdout",
     "output_type": "stream",
     "text": [
      "{'global_config': {'output_dir': './results'}, 'model_config': {'d_head': 8, 'n_layers': 1, 'n_heads': 2, 'n_ctx': 9, 'act_fn': 'relu', 'normalization_type': 'LN', 'attn_only': False, 'seed': 42, 'dtype': 'float32'}, 'train_config': {'learning_rates': '1e-4', 'batch_sizes': 64, 'batches_per_epoch': 100}, 'process_config': {'name': 'post_quantum', 'params': {'alpha': 1.0, 'beta': 1.0}}}\n"
     ]
    }
   ],
   "source": [
    "config_sweep_iter = create_config_sweep(config)\n",
    "for cfg in config_sweep_iter:\n",
    "    print(cfg)\n",
    "    break"
   ]
  },
  {
   "cell_type": "code",
   "execution_count": 118,
   "metadata": {},
   "outputs": [],
   "source": [
    "def create_individal_config_sweep(config, sweep_config_key):\n",
    "\n",
    "    sweep_has_values = not config['sweep_config'][sweep_config_key] is None\n",
    "    constant_has_values = not config[sweep_config_key] is None\n",
    "\n",
    "    if sweep_has_values:\n",
    "        sweep_configs = {list(param.keys())[0]: param[list(param.keys())[0]] for param in config['sweep_config'][sweep_config_key]}\n",
    "        config_combinations = list(itertools.product(*sweep_configs.values()))\n",
    "        for combination in config_combinations:\n",
    "            config_sweep = dict(zip(sweep_configs.keys(), combination))\n",
    "            if constant_has_values:\n",
    "                config_sweep.update(config[sweep_config_key])\n",
    "            yield config_sweep\n",
    "    elif constant_has_values:\n",
    "        yield config[sweep_config_key]\n",
    "    else:\n",
    "        yield {}\n",
    "\n",
    "def create_process_config_sweep(config):\n",
    "    return create_individal_config_sweep(config, 'process_config')\n",
    "\n",
    "def create_model_config_sweep(config):\n",
    "    return create_individal_config_sweep(config, 'model_config')\n",
    "\n",
    "def create_training_config_sweep(config):\n",
    "    return create_individal_config_sweep(config, 'train_config')"
   ]
  },
  {
   "cell_type": "code",
   "execution_count": 119,
   "metadata": {},
   "outputs": [
    {
     "ename": "AttributeError",
     "evalue": "'str' object has no attribute 'keys'",
     "output_type": "error",
     "traceback": [
      "\u001b[0;31m---------------------------------------------------------------------------\u001b[0m",
      "\u001b[0;31mAttributeError\u001b[0m                            Traceback (most recent call last)",
      "Cell \u001b[0;32mIn[119], line 1\u001b[0m\n\u001b[0;32m----> 1\u001b[0m \u001b[38;5;28;01mfor\u001b[39;00m config_sweep \u001b[38;5;129;01min\u001b[39;00m create_model_config_sweep(config):\n\u001b[1;32m      2\u001b[0m     \u001b[38;5;28mprint\u001b[39m(config_sweep)\n",
      "Cell \u001b[0;32mIn[118], line 7\u001b[0m, in \u001b[0;36mcreate_individal_config_sweep\u001b[0;34m(config, sweep_config_key)\u001b[0m\n\u001b[1;32m      4\u001b[0m constant_has_values \u001b[38;5;241m=\u001b[39m \u001b[38;5;129;01mnot\u001b[39;00m config[sweep_config_key] \u001b[38;5;129;01mis\u001b[39;00m \u001b[38;5;28;01mNone\u001b[39;00m\n\u001b[1;32m      6\u001b[0m \u001b[38;5;28;01mif\u001b[39;00m sweep_has_values:\n\u001b[0;32m----> 7\u001b[0m     sweep_configs \u001b[38;5;241m=\u001b[39m {\u001b[38;5;28mlist\u001b[39m(param\u001b[38;5;241m.\u001b[39mkeys())[\u001b[38;5;241m0\u001b[39m]: param[\u001b[38;5;28mlist\u001b[39m(param\u001b[38;5;241m.\u001b[39mkeys())[\u001b[38;5;241m0\u001b[39m]] \u001b[38;5;28;01mfor\u001b[39;00m param \u001b[38;5;129;01min\u001b[39;00m config[\u001b[38;5;124m'\u001b[39m\u001b[38;5;124msweep_config\u001b[39m\u001b[38;5;124m'\u001b[39m][sweep_config_key]}\n\u001b[1;32m      8\u001b[0m     config_combinations \u001b[38;5;241m=\u001b[39m \u001b[38;5;28mlist\u001b[39m(itertools\u001b[38;5;241m.\u001b[39mproduct(\u001b[38;5;241m*\u001b[39msweep_configs\u001b[38;5;241m.\u001b[39mvalues()))\n\u001b[1;32m      9\u001b[0m     \u001b[38;5;28;01mfor\u001b[39;00m combination \u001b[38;5;129;01min\u001b[39;00m config_combinations:\n",
      "Cell \u001b[0;32mIn[118], line 7\u001b[0m, in \u001b[0;36m<dictcomp>\u001b[0;34m(.0)\u001b[0m\n\u001b[1;32m      4\u001b[0m constant_has_values \u001b[38;5;241m=\u001b[39m \u001b[38;5;129;01mnot\u001b[39;00m config[sweep_config_key] \u001b[38;5;129;01mis\u001b[39;00m \u001b[38;5;28;01mNone\u001b[39;00m\n\u001b[1;32m      6\u001b[0m \u001b[38;5;28;01mif\u001b[39;00m sweep_has_values:\n\u001b[0;32m----> 7\u001b[0m     sweep_configs \u001b[38;5;241m=\u001b[39m {\u001b[38;5;28mlist\u001b[39m(param\u001b[38;5;241m.\u001b[39mkeys())[\u001b[38;5;241m0\u001b[39m]: param[\u001b[38;5;28mlist\u001b[39m(param\u001b[38;5;241m.\u001b[39mkeys())[\u001b[38;5;241m0\u001b[39m]] \u001b[38;5;28;01mfor\u001b[39;00m param \u001b[38;5;129;01min\u001b[39;00m config[\u001b[38;5;124m'\u001b[39m\u001b[38;5;124msweep_config\u001b[39m\u001b[38;5;124m'\u001b[39m][sweep_config_key]}\n\u001b[1;32m      8\u001b[0m     config_combinations \u001b[38;5;241m=\u001b[39m \u001b[38;5;28mlist\u001b[39m(itertools\u001b[38;5;241m.\u001b[39mproduct(\u001b[38;5;241m*\u001b[39msweep_configs\u001b[38;5;241m.\u001b[39mvalues()))\n\u001b[1;32m      9\u001b[0m     \u001b[38;5;28;01mfor\u001b[39;00m combination \u001b[38;5;129;01min\u001b[39;00m config_combinations:\n",
      "\u001b[0;31mAttributeError\u001b[0m: 'str' object has no attribute 'keys'"
     ]
    }
   ],
   "source": [
    "for config_sweep in create_model_config_sweep(config):\n",
    "    print(config_sweep)\n"
   ]
  },
  {
   "cell_type": "code",
   "execution_count": 65,
   "metadata": {},
   "outputs": [
    {
     "data": {
      "text/plain": [
       "{'n_ctx': 9,\n",
       " 'n_heads': 2,\n",
       " 'act_fn': 'relu',\n",
       " 'normalization_type': 'LN',\n",
       " 'attn_only': False,\n",
       " 'seed': 42,\n",
       " 'dtype': 'float32'}"
      ]
     },
     "execution_count": 65,
     "metadata": {},
     "output_type": "execute_result"
    }
   ],
   "source": [
    "config['model_config']"
   ]
  },
  {
   "cell_type": "code",
   "execution_count": 42,
   "metadata": {},
   "outputs": [],
   "source": [
    "# create model configs\n",
    "sweep_model_configs = {list(param.keys())[0]: param[list(param.keys())[0]] for param in config['sweep_config']['model_config']}\n",
    "model_config_combinations = list(itertools.product(*sweep_model_configs.values()))\n",
    "for combination in model_config_combinations:\n",
    "    model_config_sweep = dict(zip(sweep_model_configs.keys(), combination))\n",
    "    # add the model config to the config\n",
    "    model_config_sweep.update(config['model_config'])\n"
   ]
  },
  {
   "cell_type": "code",
   "execution_count": 44,
   "metadata": {},
   "outputs": [
    {
     "data": {
      "text/plain": [
       "{'d_head': 8,\n",
       " 'n_layers': 12,\n",
       " 'n_heads': 2,\n",
       " 'n_ctx': 9,\n",
       " 'act_fn': 'relu',\n",
       " 'normalization_type': 'LN',\n",
       " 'attn_only': False,\n",
       " 'seed': 42,\n",
       " 'dtype': 'float32'}"
      ]
     },
     "execution_count": 44,
     "metadata": {},
     "output_type": "execute_result"
    }
   ],
   "source": []
  },
  {
   "cell_type": "code",
   "execution_count": 12,
   "metadata": {},
   "outputs": [
    {
     "name": "stdout",
     "output_type": "stream",
     "text": [
      "('learning_rates', 'batch_sizes', 'model_architectures', 'model_architectures', 'model_architectures', 'processes', 'processes', 'processes', 'processes', 'processes')\n"
     ]
    }
   ],
   "source": [
    "\n",
    "\n",
    "sweep_params = itertools.product(\n",
    "    *[(key, value) for key in config['sweep_config'].keys() for value in config['sweep_config'][key]]\n",
    ")\n",
    "for param in sweep_params:\n",
    "    print(param)\n",
    "    break"
   ]
  },
  {
   "cell_type": "code",
   "execution_count": 18,
   "metadata": {},
   "outputs": [
    {
     "name": "stdout",
     "output_type": "stream",
     "text": [
      "Command output:\n",
      "Arguments parsed successfully!\n",
      "\n"
     ]
    }
   ],
   "source": [
    "\n",
    "    # Generate all combinations for the sweep\n",
    "    sweep_params = itertools.product(\n",
    "        config['sweep_config']['learning_rates'],\n",
    "        config['sweep_config']['batch_sizes'],\n",
    "        config['sweep_config']['model_architectures'][1]['n_layers'],\n",
    "        config['sweep_config']['model_architectures'][2]['n_heads'],\n",
    "        config['sweep_config']['processes']\n",
    "    )\n",
    "\n",
    "    run_id = config.get('run_id', datetime.now().strftime(\"%Y%m%d_%H%M%S\"))\n",
    "    os.makedirs(f\"{config['global_config']['output_dir']}/{run_id}\", exist_ok=True)\n",
    "\n",
    "    for i, (lr, bs, n_layers, n_heads, process) in enumerate(sweep_params):\n",
    "        d_attn = config['sweep_config']['model_architectures'][0]['d_attn'][0]\n",
    "        d_model, d_mlp = calculate_model_params(n_heads, d_attn)\n",
    "\n",
    "        run_config = {\n",
    "            'global_config': config['global_config'],\n",
    "            'model_config': {\n",
    "                'activation': config['model_config']['activation'],\n",
    "                'learning_rate': lr,\n",
    "                'batch_size': bs,\n",
    "                'n_layers': n_layers,\n",
    "                'n_heads': n_heads,\n",
    "                'd_attn': d_attn,\n",
    "                'd_model': d_model,\n",
    "                'd_mlp': d_mlp\n",
    "            },\n",
    "            'process': process\n",
    "        }\n",
    "\n",
    "        config_path = f\"{config['global_config']['output_dir']}/{run_id}/config_{i}.yaml\"\n",
    "        with open(config_path, 'w') as f:\n",
    "            yaml.dump(run_config, f)\n",
    "\n",
    "        run_config['config_path'] = config_path\n",
    "        gpu_id = i % config['global_config']['num_gpus']\n",
    "        run_experiment(run_config, gpu_id)\n",
    "\n",
    "if __name__ == \"__main__\":\n",
    "    main()\n"
   ]
  },
  {
   "cell_type": "code",
   "execution_count": 6,
   "metadata": {},
   "outputs": [
    {
     "data": {
      "text/plain": [
       "{'global_config': {'output_dir': './results', 'sweep_id': '20241002142504'},\n",
       " 'model_config': {'act_fn': 'relu',\n",
       "  'attn_only': False,\n",
       "  'd_head': 8,\n",
       "  'd_mlp': 64,\n",
       "  'd_model': 16,\n",
       "  'dtype': 'float32',\n",
       "  'n_ctx': 9,\n",
       "  'n_heads': 2,\n",
       "  'n_layers': 1,\n",
       "  'normalization_type': 'LN',\n",
       "  'seed': 42},\n",
       " 'process_config': {'alpha': 2000.0, 'lamb': 0.49, 'name': 'fanizza'},\n",
       " 'run_id': 'run_2_L1_H2_DH8_DM16_fanizza',\n",
       " 'train_config': {'batch_size': 64,\n",
       "  'batches_per_epoch': 100,\n",
       "  'bos': False,\n",
       "  'learning_rate': '1e-4'}}"
      ]
     },
     "execution_count": 6,
     "metadata": {},
     "output_type": "execute_result"
    }
   ],
   "source": [
    "import yaml\n",
    "\n",
    "def load_config(config_path):\n",
    "    with open(config_path, 'r') as f:\n",
    "        return yaml.safe_load(f)\n",
    "config = load_config('/Users/adamimos/Documents/GitHub/epsilon-transformers/results/20241002142504/config_run_2_L1_H2_DH8_DM16_fanizza.yaml')\n",
    "config"
   ]
  },
  {
   "cell_type": "code",
   "execution_count": 10,
   "metadata": {},
   "outputs": [
    {
     "name": "stdout",
     "output_type": "stream",
     "text": [
      "Process initialized successfully!\n"
     ]
    }
   ],
   "source": [
    "%reload_ext autoreload\n",
    "%autoreload 2\n",
    "from epsilon_transformers.training.dataloader import get_dataloader_and_loss_lower_bound\n",
    "dataloader, loss_lower_bound = get_dataloader_and_loss_lower_bound(process_params=config['process_config'],\n",
    "                                    n_ctx=config['model_config']['n_ctx'],\n",
    "                                    batches_per_epoch=config['train_config']['batches_per_epoch'],\n",
    "                                    batch_size=config['train_config']['batch_size'],\n",
    "                                    device='cpu',\n",
    "                                    bos=config['train_config']['bos'])"
   ]
  },
  {
   "cell_type": "code",
   "execution_count": 11,
   "metadata": {},
   "outputs": [
    {
     "name": "stdout",
     "output_type": "stream",
     "text": [
      "(tensor([[2, 1, 1, 0, 1, 0, 0, 0, 0],\n",
      "        [2, 0, 0, 1, 0, 1, 1, 0, 1],\n",
      "        [2, 1, 0, 0, 0, 1, 1, 0, 1],\n",
      "        [2, 0, 0, 0, 1, 1, 0, 1, 0],\n",
      "        [2, 1, 1, 0, 1, 0, 0, 1, 1],\n",
      "        [2, 0, 0, 0, 0, 1, 1, 0, 1],\n",
      "        [2, 1, 1, 0, 0, 1, 1, 0, 1],\n",
      "        [2, 1, 1, 0, 0, 1, 0, 1, 0],\n",
      "        [2, 1, 1, 0, 0, 1, 0, 1, 1],\n",
      "        [2, 1, 0, 0, 1, 0, 0, 1, 1],\n",
      "        [2, 1, 1, 0, 1, 0, 0, 1, 0],\n",
      "        [2, 1, 0, 0, 1, 1, 1, 1, 1],\n",
      "        [2, 1, 0, 1, 0, 1, 0, 1, 0],\n",
      "        [2, 1, 1, 0, 0, 0, 1, 1, 0],\n",
      "        [2, 1, 0, 0, 1, 0, 1, 1, 0],\n",
      "        [2, 1, 0, 1, 0, 0, 1, 1, 0],\n",
      "        [2, 1, 1, 0, 1, 1, 0, 0, 0],\n",
      "        [2, 1, 0, 1, 1, 0, 1, 1, 0],\n",
      "        [2, 1, 0, 1, 0, 1, 0, 1, 0],\n",
      "        [2, 1, 0, 1, 0, 1, 1, 0, 1],\n",
      "        [2, 1, 0, 0, 1, 0, 0, 0, 1],\n",
      "        [2, 0, 1, 1, 1, 1, 1, 1, 1],\n",
      "        [2, 1, 1, 1, 1, 0, 0, 0, 1],\n",
      "        [2, 1, 0, 0, 1, 0, 1, 0, 1],\n",
      "        [2, 1, 1, 0, 0, 0, 0, 1, 0],\n",
      "        [2, 1, 0, 1, 0, 1, 1, 0, 1],\n",
      "        [2, 0, 0, 1, 1, 0, 1, 0, 1],\n",
      "        [2, 1, 0, 0, 1, 1, 0, 0, 1],\n",
      "        [2, 0, 1, 1, 0, 1, 1, 0, 1],\n",
      "        [2, 1, 0, 1, 0, 0, 1, 0, 1],\n",
      "        [2, 0, 1, 0, 1, 1, 0, 1, 0],\n",
      "        [2, 0, 0, 0, 0, 0, 1, 0, 1],\n",
      "        [2, 1, 1, 1, 1, 0, 1, 1, 0],\n",
      "        [2, 0, 0, 0, 1, 0, 0, 1, 0],\n",
      "        [2, 0, 0, 0, 0, 0, 1, 1, 0],\n",
      "        [2, 0, 1, 1, 0, 0, 1, 0, 0],\n",
      "        [2, 1, 1, 0, 1, 1, 0, 1, 1],\n",
      "        [2, 0, 1, 1, 0, 0, 1, 1, 1],\n",
      "        [2, 1, 0, 1, 1, 0, 0, 1, 0],\n",
      "        [2, 0, 1, 1, 0, 1, 0, 0, 1],\n",
      "        [2, 0, 1, 0, 1, 0, 0, 1, 0],\n",
      "        [2, 0, 0, 1, 1, 0, 0, 1, 1],\n",
      "        [2, 0, 0, 1, 0, 1, 1, 0, 1],\n",
      "        [2, 1, 0, 1, 0, 1, 1, 0, 0],\n",
      "        [2, 0, 1, 0, 1, 0, 0, 0, 0],\n",
      "        [2, 0, 1, 1, 1, 1, 0, 1, 1],\n",
      "        [2, 1, 0, 0, 1, 1, 0, 1, 0],\n",
      "        [2, 1, 0, 1, 1, 0, 1, 1, 0],\n",
      "        [2, 1, 0, 0, 0, 0, 1, 0, 1],\n",
      "        [2, 1, 1, 1, 1, 1, 0, 1, 0],\n",
      "        [2, 1, 0, 1, 1, 1, 1, 1, 0],\n",
      "        [2, 1, 0, 1, 1, 0, 0, 1, 0],\n",
      "        [2, 1, 1, 0, 0, 1, 1, 0, 0],\n",
      "        [2, 0, 0, 0, 0, 1, 0, 1, 0],\n",
      "        [2, 1, 0, 0, 1, 0, 1, 1, 0],\n",
      "        [2, 1, 1, 0, 1, 1, 1, 1, 1],\n",
      "        [2, 1, 1, 1, 1, 1, 0, 0, 1],\n",
      "        [2, 0, 1, 0, 1, 0, 0, 0, 1],\n",
      "        [2, 0, 1, 0, 1, 0, 1, 1, 0],\n",
      "        [2, 1, 1, 1, 1, 1, 0, 1, 1],\n",
      "        [2, 1, 1, 0, 0, 1, 1, 0, 0],\n",
      "        [2, 0, 1, 1, 0, 1, 1, 0, 1],\n",
      "        [2, 1, 1, 1, 1, 0, 0, 0, 0],\n",
      "        [2, 0, 0, 1, 1, 0, 1, 1, 0]], dtype=torch.int32), tensor([[1, 1, 0, 1, 0, 0, 0, 0, 1],\n",
      "        [0, 0, 1, 0, 1, 1, 0, 1, 0],\n",
      "        [1, 0, 0, 0, 1, 1, 0, 1, 0],\n",
      "        [0, 0, 0, 1, 1, 0, 1, 0, 1],\n",
      "        [1, 1, 0, 1, 0, 0, 1, 1, 0],\n",
      "        [0, 0, 0, 0, 1, 1, 0, 1, 0],\n",
      "        [1, 1, 0, 0, 1, 1, 0, 1, 0],\n",
      "        [1, 1, 0, 0, 1, 0, 1, 0, 1],\n",
      "        [1, 1, 0, 0, 1, 0, 1, 1, 0],\n",
      "        [1, 0, 0, 1, 0, 0, 1, 1, 0],\n",
      "        [1, 1, 0, 1, 0, 0, 1, 0, 0],\n",
      "        [1, 0, 0, 1, 1, 1, 1, 1, 0],\n",
      "        [1, 0, 1, 0, 1, 0, 1, 0, 1],\n",
      "        [1, 1, 0, 0, 0, 1, 1, 0, 1],\n",
      "        [1, 0, 0, 1, 0, 1, 1, 0, 1],\n",
      "        [1, 0, 1, 0, 0, 1, 1, 0, 0],\n",
      "        [1, 1, 0, 1, 1, 0, 0, 0, 1],\n",
      "        [1, 0, 1, 1, 0, 1, 1, 0, 0],\n",
      "        [1, 0, 1, 0, 1, 0, 1, 0, 1],\n",
      "        [1, 0, 1, 0, 1, 1, 0, 1, 0],\n",
      "        [1, 0, 0, 1, 0, 0, 0, 1, 0],\n",
      "        [0, 1, 1, 1, 1, 1, 1, 1, 0],\n",
      "        [1, 1, 1, 1, 0, 0, 0, 1, 1],\n",
      "        [1, 0, 0, 1, 0, 1, 0, 1, 1],\n",
      "        [1, 1, 0, 0, 0, 0, 1, 0, 0],\n",
      "        [1, 0, 1, 0, 1, 1, 0, 1, 1],\n",
      "        [0, 0, 1, 1, 0, 1, 0, 1, 1],\n",
      "        [1, 0, 0, 1, 1, 0, 0, 1, 1],\n",
      "        [0, 1, 1, 0, 1, 1, 0, 1, 1],\n",
      "        [1, 0, 1, 0, 0, 1, 0, 1, 0],\n",
      "        [0, 1, 0, 1, 1, 0, 1, 0, 1],\n",
      "        [0, 0, 0, 0, 0, 1, 0, 1, 1],\n",
      "        [1, 1, 1, 1, 0, 1, 1, 0, 1],\n",
      "        [0, 0, 0, 1, 0, 0, 1, 0, 0],\n",
      "        [0, 0, 0, 0, 0, 1, 1, 0, 0],\n",
      "        [0, 1, 1, 0, 0, 1, 0, 0, 1],\n",
      "        [1, 1, 0, 1, 1, 0, 1, 1, 1],\n",
      "        [0, 1, 1, 0, 0, 1, 1, 1, 1],\n",
      "        [1, 0, 1, 1, 0, 0, 1, 0, 0],\n",
      "        [0, 1, 1, 0, 1, 0, 0, 1, 0],\n",
      "        [0, 1, 0, 1, 0, 0, 1, 0, 1],\n",
      "        [0, 0, 1, 1, 0, 0, 1, 1, 1],\n",
      "        [0, 0, 1, 0, 1, 1, 0, 1, 0],\n",
      "        [1, 0, 1, 0, 1, 1, 0, 0, 1],\n",
      "        [0, 1, 0, 1, 0, 0, 0, 0, 1],\n",
      "        [0, 1, 1, 1, 1, 0, 1, 1, 0],\n",
      "        [1, 0, 0, 1, 1, 0, 1, 0, 0],\n",
      "        [1, 0, 1, 1, 0, 1, 1, 0, 1],\n",
      "        [1, 0, 0, 0, 0, 1, 0, 1, 1],\n",
      "        [1, 1, 1, 1, 1, 0, 1, 0, 1],\n",
      "        [1, 0, 1, 1, 1, 1, 1, 0, 1],\n",
      "        [1, 0, 1, 1, 0, 0, 1, 0, 1],\n",
      "        [1, 1, 0, 0, 1, 1, 0, 0, 0],\n",
      "        [0, 0, 0, 0, 1, 0, 1, 0, 0],\n",
      "        [1, 0, 0, 1, 0, 1, 1, 0, 0],\n",
      "        [1, 1, 0, 1, 1, 1, 1, 1, 0],\n",
      "        [1, 1, 1, 1, 1, 0, 0, 1, 1],\n",
      "        [0, 1, 0, 1, 0, 0, 0, 1, 0],\n",
      "        [0, 1, 0, 1, 0, 1, 1, 0, 0],\n",
      "        [1, 1, 1, 1, 1, 0, 1, 1, 0],\n",
      "        [1, 1, 0, 0, 1, 1, 0, 0, 1],\n",
      "        [0, 1, 1, 0, 1, 1, 0, 1, 0],\n",
      "        [1, 1, 1, 1, 0, 0, 0, 0, 0],\n",
      "        [0, 0, 1, 1, 0, 1, 1, 0, 1]], dtype=torch.int32))\n"
     ]
    }
   ],
   "source": [
    "for i in dataloader:\n",
    "    print(i)\n",
    "    break"
   ]
  },
  {
   "cell_type": "code",
   "execution_count": null,
   "metadata": {},
   "outputs": [],
   "source": []
  }
 ],
 "metadata": {
  "kernelspec": {
   "display_name": "epsilon-machine",
   "language": "python",
   "name": "python3"
  },
  "language_info": {
   "codemirror_mode": {
    "name": "ipython",
    "version": 3
   },
   "file_extension": ".py",
   "mimetype": "text/x-python",
   "name": "python",
   "nbconvert_exporter": "python",
   "pygments_lexer": "ipython3",
   "version": "3.11.7"
  }
 },
 "nbformat": 4,
 "nbformat_minor": 2
}
