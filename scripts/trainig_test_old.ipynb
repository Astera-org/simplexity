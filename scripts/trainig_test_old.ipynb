{
 "cells": [
  {
   "cell_type": "code",
   "execution_count": 1,
   "metadata": {},
   "outputs": [],
   "source": [
    "# imports\n",
    "%load_ext autoreload\n",
    "%autoreload 2\n",
    "\n",
    "from epsilon_transformers.persistence import S3Persister, HackyPersister\n",
    "from epsilon_transformers.training.configs.model_configs import RawModelConfig\n",
    "from epsilon_transformers.process.processes import RRXOR, TransitionMatrixGHMM, ZeroOneR, Mess3\n",
    "from epsilon_transformers.analysis.activation_analysis import get_beliefs_for_transformer_inputs\n",
    "\n",
    "import numpy as np\n",
    "import torch\n",
    "import plotly.express as px\n",
    "import pathlib\n",
    "\n",
    "from sklearn.linear_model import LinearRegression\n",
    "from torch.utils.data import IterableDataset, DataLoader\n",
    "\n",
    "from torch.nn.functional import cross_entropy\n",
    "# train!\n",
    "from tqdm.autonotebook import tqdm\n",
    "\n",
    "\n",
    "from transformer_lens import HookedTransformer, HookedTransformerConfig # type: ignore\n",
    "from typing import Optional"
   ]
  },
  {
   "cell_type": "code",
   "execution_count": 2,
   "metadata": {},
   "outputs": [],
   "source": [
    "from epsilon_transformers.process.processes import Process\n",
    "from typing import Tuple\n",
    "\n",
    "def create_hooked_transformer(model_cfg: dict, device: torch.device, seed: Optional[int] = None\n",
    "    ) -> HookedTransformer:\n",
    "        config = HookedTransformerConfig(\n",
    "            d_model=model_cfg[\"d_model\"],\n",
    "            d_head=model_cfg[\"d_head\"],\n",
    "            n_layers=model_cfg[\"n_layers\"],\n",
    "            n_ctx=model_cfg[\"n_ctx\"],\n",
    "            n_heads=model_cfg[\"n_heads\"],\n",
    "            d_mlp=4 * model_cfg[\"d_model\"],\n",
    "            d_vocab=3,\n",
    "            attn_only=model_cfg[\"attn_only\"],\n",
    "            seed=seed,\n",
    "            device=device,\n",
    "            act_fn=model_cfg[\"act_fn\"],\n",
    "            positional_embedding_type=model_cfg[\"positional_embedding_type\"],\n",
    "            normalization_type=model_cfg[\"normalization_type\"],\n",
    "        )\n",
    "        return HookedTransformer(config).to(device)\n",
    "\n",
    "def generate_all_seqs(process: Process, seq_len: int, bos: bool = True) -> Tuple[torch.Tensor, torch.Tensor, torch.Tensor]:\n",
    "    \"\"\"\n",
    "    Generate all possible sequences and their probabilities for a given process and sequence length.\n",
    "\n",
    "    Args:\n",
    "        process (Process): The process to generate sequences from.\n",
    "        seq_len (int): The length of sequences to generate.\n",
    "        bos (bool): Whether to include a beginning-of-sequence token. Defaults to True.\n",
    "\n",
    "    Returns:\n",
    "        Tuple[torch.Tensor, torch.Tensor, torch.Tensor]:\n",
    "            - transformer_inputs: All possible sequences.\n",
    "            - probs: Probability of each sequence.\n",
    "            - loss_lower_bound: Loss lower bound for each context window position.\n",
    "\n",
    "    Raises:\n",
    "        ValueError: If the sum of probabilities is not approximately 1.0.\n",
    "    \"\"\"\n",
    "    # Adjust depths and lengths based on BOS token\n",
    "    msp_depth = seq_len + (1 if bos else 2)\n",
    "    final_seq_len = seq_len - (1 if bos else 0)\n",
    "    bos_token = process.vocab_len if bos else None\n",
    "\n",
    "    # Generate Mixed State Presentation\n",
    "    msp = process.derive_mixed_state_presentation(depth=msp_depth)\n",
    "    paths, probs = msp.get_paths_and_probs(depth=final_seq_len)\n",
    "    myopic_entropy = msp.myopic_entropy\n",
    "\n",
    "    # Convert to tensors\n",
    "    transformer_inputs = torch.tensor(paths, dtype=torch.int32)\n",
    "    probs = torch.tensor(probs, dtype=torch.float32)\n",
    "\n",
    "    # Add BOS token if required\n",
    "    if bos:\n",
    "        bos_column = torch.full((len(paths), 1), bos_token, dtype=torch.int32)\n",
    "        transformer_inputs = torch.cat([bos_column, transformer_inputs], dim=1)\n",
    "        loss_lower_bound = myopic_entropy[:-1]\n",
    "    else:\n",
    "        loss_lower_bound = myopic_entropy[1:-1]\n",
    "\n",
    "    # Validate probabilities\n",
    "    if not torch.isclose(probs.sum(), torch.tensor(1.0), atol=1e-6):\n",
    "        raise ValueError(f\"Sum of probabilities is {probs.sum().item():.6f}, expected 1.0\")\n",
    "\n",
    "    return transformer_inputs, probs, loss_lower_bound\n",
    "\n",
    "# Create an iterable batch generator\n",
    "class BatchGenerator:\n",
    "    def __init__(self, transformer_inputs, probs, cfg):\n",
    "        self.transformer_inputs = transformer_inputs\n",
    "        self.probs = probs\n",
    "        self.cfg = cfg\n",
    "\n",
    "    def __len__(self):\n",
    "        return self.cfg[\"batches_per_epoch\"]\n",
    "\n",
    "    def __iter__(self):\n",
    "        total_samples = self.cfg[\"batches_per_epoch\"] * self.cfg[\"batch_size\"]\n",
    "        sample_inds = torch.multinomial(self.probs, total_samples, replacement=True)\n",
    "        sample_inds = sample_inds.reshape(self.cfg[\"batches_per_epoch\"], self.cfg[\"batch_size\"])\n",
    "\n",
    "        for batch_indices in sample_inds:\n",
    "            batch = self.transformer_inputs[batch_indices]\n",
    "            X, Y = batch[:, :-1], batch[:, 1:]\n",
    "            yield X, Y\n",
    "\n",
    "    def validation_data(self):\n",
    "        total_samples = self.transformer_inputs.shape[0]\n",
    "        for start_idx in range(0, total_samples, self.cfg[\"batch_size\"]):\n",
    "            end_idx = min(start_idx + self.cfg[\"batch_size\"], total_samples)\n",
    "            batch = self.transformer_inputs[start_idx:end_idx]\n",
    "            batch_probs = self.probs[start_idx:end_idx]\n",
    "            X, Y = batch[:, :-1], batch[:, 1:]\n",
    "            yield X, Y, batch_probs\n",
    "\n"
   ]
  },
  {
   "cell_type": "code",
   "execution_count": 4,
   "metadata": {},
   "outputs": [
    {
     "name": "stdout",
     "output_type": "stream",
     "text": [
      "Moving model to device:  mps\n"
     ]
    },
    {
     "data": {
      "application/vnd.jupyter.widget-view+json": {
       "model_id": "c27ac48b3e434b14ba6c30d645cf31b2",
       "version_major": 2,
       "version_minor": 0
      },
      "text/plain": [
       "Epochs:   0%|          | 0/10 [00:00<?, ?it/s]"
      ]
     },
     "metadata": {},
     "output_type": "display_data"
    },
    {
     "data": {
      "application/vnd.jupyter.widget-view+json": {
       "model_id": "93f3d6dadc944b718b87c0d0d7da68be",
       "version_major": 2,
       "version_minor": 0
      },
      "text/plain": [
       "Batches:   0%|          | 0/1000 [00:00<?, ?it/s]"
      ]
     },
     "metadata": {},
     "output_type": "display_data"
    },
    {
     "data": {
      "application/vnd.jupyter.widget-view+json": {
       "model_id": "424f033a159c48e9bcfed0b61b673479",
       "version_major": 2,
       "version_minor": 0
      },
      "text/plain": [
       "Batches:   0%|          | 0/1000 [00:00<?, ?it/s]"
      ]
     },
     "metadata": {},
     "output_type": "display_data"
    },
    {
     "data": {
      "application/vnd.jupyter.widget-view+json": {
       "model_id": "a029ad96499c49298d2531660b87abbf",
       "version_major": 2,
       "version_minor": 0
      },
      "text/plain": [
       "Batches:   0%|          | 0/1000 [00:00<?, ?it/s]"
      ]
     },
     "metadata": {},
     "output_type": "display_data"
    },
    {
     "ename": "KeyboardInterrupt",
     "evalue": "",
     "output_type": "error",
     "traceback": [
      "\u001b[0;31m---------------------------------------------------------------------------\u001b[0m",
      "\u001b[0;31mKeyboardInterrupt\u001b[0m                         Traceback (most recent call last)",
      "Cell \u001b[0;32mIn[4], line 86\u001b[0m\n\u001b[1;32m     84\u001b[0m batch_iterator \u001b[38;5;241m=\u001b[39m tqdm(batch_generator, desc\u001b[38;5;241m=\u001b[39m\u001b[38;5;124m\"\u001b[39m\u001b[38;5;124mBatches\u001b[39m\u001b[38;5;124m\"\u001b[39m, leave\u001b[38;5;241m=\u001b[39m\u001b[38;5;28;01mFalse\u001b[39;00m)\n\u001b[1;32m     85\u001b[0m \u001b[38;5;28;01mfor\u001b[39;00m X, Y \u001b[38;5;129;01min\u001b[39;00m batch_iterator:\n\u001b[0;32m---> 86\u001b[0m     batch_loss \u001b[38;5;241m=\u001b[39m train_batch(model, optimizer, X, Y)\n\u001b[1;32m     87\u001b[0m     epoch_loss \u001b[38;5;241m+\u001b[39m\u001b[38;5;241m=\u001b[39m batch_loss\n\u001b[1;32m     88\u001b[0m     batch_iterator\u001b[38;5;241m.\u001b[39mset_postfix({\u001b[38;5;124m\"\u001b[39m\u001b[38;5;124mLoss\u001b[39m\u001b[38;5;124m\"\u001b[39m: batch_loss\u001b[38;5;241m/\u001b[39mmean_loss_lower_bound}, refresh\u001b[38;5;241m=\u001b[39m\u001b[38;5;28;01mFalse\u001b[39;00m)\n",
      "Cell \u001b[0;32mIn[4], line 60\u001b[0m, in \u001b[0;36mtrain_batch\u001b[0;34m(model, optimizer, X, Y)\u001b[0m\n\u001b[1;32m     57\u001b[0m model\u001b[38;5;241m.\u001b[39mtrain()\n\u001b[1;32m     59\u001b[0m \u001b[38;5;66;03m# Clear gradients\u001b[39;00m\n\u001b[0;32m---> 60\u001b[0m optimizer\u001b[38;5;241m.\u001b[39mzero_grad(set_to_none\u001b[38;5;241m=\u001b[39m\u001b[38;5;28;01mTrue\u001b[39;00m)\n\u001b[1;32m     62\u001b[0m \u001b[38;5;66;03m# Forward pass\u001b[39;00m\n\u001b[1;32m     63\u001b[0m logits \u001b[38;5;241m=\u001b[39m model(X)\n",
      "File \u001b[0;32m~/anaconda3/envs/epsilon-machine/lib/python3.11/site-packages/torch/_compile.py:24\u001b[0m, in \u001b[0;36m_disable_dynamo.<locals>.inner\u001b[0;34m(*args, **kwargs)\u001b[0m\n\u001b[1;32m     20\u001b[0m \u001b[38;5;129m@functools\u001b[39m\u001b[38;5;241m.\u001b[39mwraps(fn)\n\u001b[1;32m     21\u001b[0m \u001b[38;5;28;01mdef\u001b[39;00m \u001b[38;5;21minner\u001b[39m(\u001b[38;5;241m*\u001b[39margs, \u001b[38;5;241m*\u001b[39m\u001b[38;5;241m*\u001b[39mkwargs):\n\u001b[1;32m     22\u001b[0m     \u001b[38;5;28;01mimport\u001b[39;00m \u001b[38;5;21;01mtorch\u001b[39;00m\u001b[38;5;21;01m.\u001b[39;00m\u001b[38;5;21;01m_dynamo\u001b[39;00m\n\u001b[0;32m---> 24\u001b[0m     \u001b[38;5;28;01mreturn\u001b[39;00m torch\u001b[38;5;241m.\u001b[39m_dynamo\u001b[38;5;241m.\u001b[39mdisable(fn, recursive)(\u001b[38;5;241m*\u001b[39margs, \u001b[38;5;241m*\u001b[39m\u001b[38;5;241m*\u001b[39mkwargs)\n",
      "File \u001b[0;32m~/anaconda3/envs/epsilon-machine/lib/python3.11/site-packages/torch/_dynamo/decorators.py:47\u001b[0m, in \u001b[0;36mdisable\u001b[0;34m(fn, recursive)\u001b[0m\n\u001b[1;32m     45\u001b[0m         fn \u001b[38;5;241m=\u001b[39m innermost_fn(fn)\n\u001b[1;32m     46\u001b[0m         \u001b[38;5;28;01massert\u001b[39;00m \u001b[38;5;28mcallable\u001b[39m(fn)\n\u001b[0;32m---> 47\u001b[0m         \u001b[38;5;28;01mreturn\u001b[39;00m DisableContext()(fn)\n\u001b[1;32m     48\u001b[0m     \u001b[38;5;28;01mreturn\u001b[39;00m DisableContext()\n\u001b[1;32m     49\u001b[0m \u001b[38;5;28;01melse\u001b[39;00m:\n",
      "File \u001b[0;32m~/anaconda3/envs/epsilon-machine/lib/python3.11/site-packages/torch/_dynamo/eval_frame.py:290\u001b[0m, in \u001b[0;36m_TorchDynamoContext.__call__\u001b[0;34m(self, fn)\u001b[0m\n\u001b[1;32m    287\u001b[0m \u001b[38;5;28;01massert\u001b[39;00m \u001b[38;5;28mcallable\u001b[39m(fn)\n\u001b[1;32m    289\u001b[0m \u001b[38;5;28;01mtry\u001b[39;00m:\n\u001b[0;32m--> 290\u001b[0m     filename \u001b[38;5;241m=\u001b[39m inspect\u001b[38;5;241m.\u001b[39mgetsourcefile(fn)\n\u001b[1;32m    291\u001b[0m \u001b[38;5;28;01mexcept\u001b[39;00m \u001b[38;5;167;01mTypeError\u001b[39;00m:\n\u001b[1;32m    292\u001b[0m     filename \u001b[38;5;241m=\u001b[39m \u001b[38;5;28;01mNone\u001b[39;00m\n",
      "File \u001b[0;32m~/anaconda3/envs/epsilon-machine/lib/python3.11/inspect.py:949\u001b[0m, in \u001b[0;36mgetsourcefile\u001b[0;34m(object)\u001b[0m\n\u001b[1;32m    946\u001b[0m \u001b[38;5;28;01melif\u001b[39;00m \u001b[38;5;28many\u001b[39m(filename\u001b[38;5;241m.\u001b[39mendswith(s) \u001b[38;5;28;01mfor\u001b[39;00m s \u001b[38;5;129;01min\u001b[39;00m\n\u001b[1;32m    947\u001b[0m              importlib\u001b[38;5;241m.\u001b[39mmachinery\u001b[38;5;241m.\u001b[39mEXTENSION_SUFFIXES):\n\u001b[1;32m    948\u001b[0m     \u001b[38;5;28;01mreturn\u001b[39;00m \u001b[38;5;28;01mNone\u001b[39;00m\n\u001b[0;32m--> 949\u001b[0m \u001b[38;5;28;01mif\u001b[39;00m os\u001b[38;5;241m.\u001b[39mpath\u001b[38;5;241m.\u001b[39mexists(filename):\n\u001b[1;32m    950\u001b[0m     \u001b[38;5;28;01mreturn\u001b[39;00m filename\n\u001b[1;32m    951\u001b[0m \u001b[38;5;66;03m# only return a non-existent filename if the module has a PEP 302 loader\u001b[39;00m\n",
      "File \u001b[0;32m<frozen genericpath>:19\u001b[0m, in \u001b[0;36mexists\u001b[0;34m(path)\u001b[0m\n",
      "\u001b[0;31mKeyboardInterrupt\u001b[0m: "
     ]
    }
   ],
   "source": [
    "\n",
    "# Configuration\n",
    "cfg = {\n",
    "    \"seq_len\": 8,\n",
    "    \"batch_size\": 256,\n",
    "    \"batches_per_epoch\": 1000,\n",
    "    \"device\": torch.device(\"mps\" if torch.backends.mps.is_available() else \"cpu\")\n",
    "}\n",
    "\n",
    "model_cfg = {\n",
    "    \"d_model\": 32,\n",
    "    \"d_head\": 8,\n",
    "    \"n_layers\": 1,\n",
    "    \"n_ctx\": cfg[\"seq_len\"],\n",
    "    \"n_heads\": 4,\n",
    "    \"attn_only\": False,\n",
    "    \"act_fn\": \"relu\",\n",
    "    \"positional_embedding_type\": \"standard\",\n",
    "    \"normalization_type\": \"LN\",\n",
    "}\n",
    "\n",
    "# Process initialization\n",
    "process = TransitionMatrixGHMM(RRXOR().transition_matrix)\n",
    "process.name = \"RRXOR\"\n",
    "\n",
    "# Generate sequences and probabilities\n",
    "transformer_inputs, probs, loss_lower_bound = generate_all_seqs(process, cfg[\"seq_len\"] + 1, bos=False)\n",
    "transformer_inputs = transformer_inputs.to(cfg[\"device\"])\n",
    "probs = probs.to(cfg[\"device\"])\n",
    "\n",
    "# Create the batch generator\n",
    "batch_generator = BatchGenerator(transformer_inputs, probs, cfg)\n",
    "\n",
    "model = create_hooked_transformer(model_cfg, cfg[\"device\"])\n",
    "\n",
    "\n",
    "optimizer = torch.optim.Adam(model.parameters(), lr=0.0001)\n",
    "\n",
    "mean_loss_lower_bound = np.mean(loss_lower_bound)\n",
    "\n",
    "\n",
    "def train_batch(model, optimizer, X, Y):\n",
    "    \"\"\"\n",
    "    Perform a single training step on a batch of data.\n",
    "\n",
    "    Args:\n",
    "        model (nn.Module): The neural network model to train.\n",
    "        optimizer (torch.optim.Optimizer): The optimizer for updating model parameters.\n",
    "        X (torch.Tensor): Input tensor of shape (batch_size, seq_len).\n",
    "        Y (torch.Tensor): Target tensor of shape (batch_size, seq_len).\n",
    "\n",
    "    Returns:\n",
    "        float: The average loss for this batch.\n",
    "    \"\"\"\n",
    "\n",
    "    # Clear gradients\n",
    "    optimizer.zero_grad(set_to_none=True)\n",
    "\n",
    "    # Forward pass\n",
    "    logits = model(X)\n",
    "    batch_size, seq_len, vocab_size = logits.shape\n",
    "    logits = logits.reshape(batch_size * seq_len, vocab_size)\n",
    "    Y = Y.reshape(batch_size * seq_len)\n",
    "\n",
    "    # Compute loss\n",
    "    loss = cross_entropy(logits, Y, reduction='none')\n",
    "    loss = loss.view(batch_size, seq_len)\n",
    "\n",
    "    # Calculate average loss per position and total loss\n",
    "    loss_per_position = loss.mean(dim=0)\n",
    "    total_loss = loss_per_position.mean()\n",
    "\n",
    "    # Backward pass and optimization\n",
    "    total_loss.backward()\n",
    "    optimizer.step()\n",
    "\n",
    "    return loss.item()\n",
    "\n",
    "for n_epoch in tqdm(range(10), desc=\"Epochs\"):\n",
    "    batch_iterator = tqdm(batch_generator, desc=\"Batches\", leave=False)\n",
    "    for X, Y in batch_iterator:\n",
    "        batch_loss = train_batch(model, optimizer, X, Y)\n",
    "        batch_iterator.set_postfix({\"Loss\": batch_loss/mean_loss_lower_bound}, refresh=False)"
   ]
  },
  {
   "cell_type": "code",
   "execution_count": 160,
   "metadata": {},
   "outputs": [
    {
     "data": {
      "text/plain": [
       "tensor([[1, 0, 0,  ..., 0, 0, 0],\n",
       "        [1, 1, 0,  ..., 1, 1, 0],\n",
       "        [0, 1, 0,  ..., 1, 1, 0],\n",
       "        ...,\n",
       "        [0, 0, 1,  ..., 1, 0, 0],\n",
       "        [0, 0, 0,  ..., 0, 0, 0],\n",
       "        [0, 0, 0,  ..., 0, 1, 1]], device='mps:0', dtype=torch.int32)"
      ]
     },
     "execution_count": 160,
     "metadata": {},
     "output_type": "execute_result"
    }
   ],
   "source": [
    "X"
   ]
  },
  {
   "cell_type": "code",
   "execution_count": 161,
   "metadata": {},
   "outputs": [
    {
     "name": "stdout",
     "output_type": "stream",
     "text": [
      "torch.Size([260]) torch.Size([260, 8])\n",
      "tensor([0.6944, 0.6378, 0.6298, 0.6115, 0.6046, 0.6221, 0.6158, 0.6138],\n",
      "       device='mps:0')\n"
     ]
    }
   ],
   "source": [
    "n_vocab = 3\n",
    "with torch.no_grad():\n",
    "    X, Y = transformer_inputs[:, :-1], transformer_inputs[:, 1:]\n",
    "    logits = model(X) # (n_samples, seq_len, n_vocab)\n",
    "    logits = logits.reshape(-1, n_vocab) # (n_samples * seq_len, n_vocab)\n",
    "    Y = Y.reshape(-1) # (n_samples * seq_len)\n",
    "    loss = cross_entropy(logits, Y, reduction='none')\n",
    "    loss = loss.reshape(X.shape[0], -1)\n",
    "    print(probs.shape, loss.shape)\n",
    "    loss = probs.unsqueeze(1) * loss\n",
    "    loss = loss.sum(dim=0)\n",
    "    print(loss)\n",
    "\n",
    "\n"
   ]
  },
  {
   "cell_type": "code",
   "execution_count": 162,
   "metadata": {},
   "outputs": [
    {
     "data": {
      "text/plain": [
       "[<matplotlib.lines.Line2D at 0x39c62d450>]"
      ]
     },
     "execution_count": 162,
     "metadata": {},
     "output_type": "execute_result"
    },
    {
     "data": {
      "image/png": "[encoded data removed]",
      "text/plain": [
       "<Figure size 640x480 with 1 Axes>"
      ]
     },
     "metadata": {},
     "output_type": "display_data"
    }
   ],
   "source": [
    "import matplotlib.pyplot as plt\n",
    "plt.plot(loss.detach().cpu().numpy()/myopic_entropy)"
   ]
  },
  {
   "cell_type": "code",
   "execution_count": 147,
   "metadata": {},
   "outputs": [
    {
     "data": {
      "text/plain": [
       "(9,)"
      ]
     },
     "execution_count": 147,
     "metadata": {},
     "output_type": "execute_result"
    }
   ],
   "source": [
    "myopic_entropy.shape"
   ]
  },
  {
   "cell_type": "code",
   "execution_count": null,
   "metadata": {},
   "outputs": [
    {
     "data": {
      "text/plain": [
       "torch.Size([19683, 1])"
      ]
     },
     "execution_count": 65,
     "metadata": {},
     "output_type": "execute_result"
    }
   ],
   "source": [
    "probs.unsqueeze(1).shape"
   ]
  },
  {
   "cell_type": "code",
   "execution_count": null,
   "metadata": {},
   "outputs": [
    {
     "data": {
      "text/plain": [
       "torch.Size([19682, 9])"
      ]
     },
     "execution_count": 64,
     "metadata": {},
     "output_type": "execute_result"
    }
   ],
   "source": [
    "loss.shape"
   ]
  },
  {
   "cell_type": "code",
   "execution_count": null,
   "metadata": {},
   "outputs": [
    {
     "ename": "RuntimeError",
     "evalue": "The size of tensor a (19683) must match the size of tensor b (19682) at non-singleton dimension 0",
     "output_type": "error",
     "traceback": [
      "\u001b[0;31m---------------------------------------------------------------------------\u001b[0m",
      "\u001b[0;31mRuntimeError\u001b[0m                              Traceback (most recent call last)",
      "Cell \u001b[0;32mIn[66], line 1\u001b[0m\n\u001b[0;32m----> 1\u001b[0m result \u001b[38;5;241m=\u001b[39m probs\u001b[38;5;241m.\u001b[39munsqueeze(\u001b[38;5;241m1\u001b[39m) \u001b[38;5;241m*\u001b[39m loss\n",
      "\u001b[0;31mRuntimeError\u001b[0m: The size of tensor a (19683) must match the size of tensor b (19682) at non-singleton dimension 0"
     ]
    }
   ],
   "source": [
    "result = probs.unsqueeze(1) * loss"
   ]
  },
  {
   "cell_type": "code",
   "execution_count": null,
   "metadata": {},
   "outputs": [],
   "source": [
    "result = probs[:loss.shape[0]].unsqueeze(1) * loss\n",
    "result = result.sum()"
   ]
  },
  {
   "cell_type": "code",
   "execution_count": null,
   "metadata": {},
   "outputs": [
    {
     "data": {
      "text/plain": [
       "torch.Size([9])"
      ]
     },
     "execution_count": 70,
     "metadata": {},
     "output_type": "execute_result"
    }
   ],
   "source": [
    "result.shape"
   ]
  },
  {
   "cell_type": "code",
   "execution_count": null,
   "metadata": {},
   "outputs": [
    {
     "data": {
      "text/plain": [
       "tensor(1.0836, device='mps:0', grad_fn=<DivBackward0>)"
      ]
     },
     "execution_count": 74,
     "metadata": {},
     "output_type": "execute_result"
    }
   ],
   "source": [
    "result/9"
   ]
  },
  {
   "cell_type": "code",
   "execution_count": null,
   "metadata": {},
   "outputs": [
    {
     "data": {
      "text/plain": [
       "(7,)"
      ]
     },
     "execution_count": 115,
     "metadata": {},
     "output_type": "execute_result"
    }
   ],
   "source": [
    "myopic_entropy[1:].shape"
   ]
  },
  {
   "cell_type": "code",
   "execution_count": null,
   "metadata": {},
   "outputs": [],
   "source": []
  }
 ],
 "metadata": {
  "kernelspec": {
   "display_name": "epsilon-machine",
   "language": "python",
   "name": "python3"
  },
  "language_info": {
   "codemirror_mode": {
    "name": "ipython",
    "version": 3
   },
   "file_extension": ".py",
   "mimetype": "text/x-python",
   "name": "python",
   "nbconvert_exporter": "python",
   "pygments_lexer": "ipython3",
   "version": "3.11.7"
  }
 },
 "nbformat": 4,
 "nbformat_minor": 2
}
