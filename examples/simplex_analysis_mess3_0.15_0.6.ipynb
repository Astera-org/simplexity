{
 "cells": [
  {
   "cell_type": "code",
   "execution_count": 122,
   "metadata": {},
   "outputs": [
    {
     "name": "stdout",
     "output_type": "stream",
     "text": [
      "The autoreload extension is already loaded. To reload it, use:\n",
      "  %reload_ext autoreload\n"
     ]
    }
   ],
   "source": [
    "%load_ext autoreload\n",
    "%autoreload 2\n",
    "\n",
    "from epsilon_transformers.persistence import S3Persister, HackyPersister\n",
    "from epsilon_transformers.training.configs.model_configs import RawModelConfig\n",
    "from epsilon_transformers.process.processes import RRXOR, Mess3\n",
    "from epsilon_transformers.analysis.activation_analysis import get_beliefs_for_transformer_inputs\n",
    "from epsilon_transformers.visualization.plots import _project_to_simplex\n",
    "import seaborn as sns\n",
    "\n",
    "import numpy as np\n",
    "import torch\n",
    "import plotly.express as px\n",
    "import matplotlib.pyplot as plt\n",
    "import pathlibß\n",
    "\n",
    "from sklearn.linear_model import LinearRegression\n",
    "from sklearn.decomposition import PCA"
   ]
  },
  {
   "cell_type": "markdown",
   "metadata": {},
   "source": [
    "# Get the model checkpoints (.pt files) and load the final model\n",
    "\n",
    "We provide checkpoints from 3 experiments:\n",
    "1. mess3 (hyperparams = 0.05, 0.85) in folder `./models/54qc0vyb_mess3-0.05-0.85`\n",
    "2. mess3 (hyperparams = 0.15, 0.6) in folder `./models/f6gnm1we-mess3-0.15-0.6`\n",
    "3. RRXOR process - in folder `./models/rrxor`\n",
    "\n",
    "The easiest way to load the model is to use the `HackyPersister` class, which loads the model from the local disk.\n",
    "- `persister.load_final_model()` loads the final model from last checkpoint.\n",
    "- `persister.load_training_config()` loads the training config as a dictionary, detailing the hyperparams of the transformer and training.\n",
    "- `persister.load_train_log()` loads the training log as a pandas dataframe.\n",
    "- `persister.load_val_log()` loads the validation log as a pandas dataframe.\n",
    "\n"
   ]
  },
  {
   "cell_type": "code",
   "execution_count": 126,
   "metadata": {},
   "outputs": [
    {
     "name": "stdout",
     "output_type": "stream",
     "text": [
      "Checkpoints found: 157\n",
      "Last checkpoint: 998406400\n"
     ]
    }
   ],
   "source": [
    "#persister = HackyPersister(dir_path=pathlib.Path(\"./models/54qc0vyb_mess3-0.05-0.85\"))\n",
    "persister = HackyPersister(dir_path=pathlib.Path(\"./models/f6gnm1we-mess3-0.15-0.6\"))\n",
    "model = persister.load_final_model()"
   ]
  },
  {
   "cell_type": "code",
   "execution_count": 127,
   "metadata": {},
   "outputs": [
    {
     "name": "stdout",
     "output_type": "stream",
     "text": [
      "seed: 42\n",
      "n_ctx: 10\n",
      "act_fn: relu\n",
      "d_head: 8\n",
      "d_model: 64\n",
      "d_vocab: 3\n",
      "n_heads: 1\n",
      "n_iters: 10\n",
      "n_layers: 4\n",
      "attn_only: False\n",
      "optimizer: sgd\n",
      "batch_size: 64\n",
      "num_epochs: 1000000\n",
      "init_weights: True\n",
      "weight_decay: 0\n",
      "attention_dir: causal\n",
      "learning_rate: 0.01\n",
      "use_attn_scale: True\n",
      "normalization_type: LN\n"
     ]
    }
   ],
   "source": [
    "train_config = persister.load_training_config()\n",
    "print(\"\\n\".join(f\"{k}: {v}\" for k, v in train_config.items()))"
   ]
  },
  {
   "cell_type": "code",
   "execution_count": 130,
   "metadata": {},
   "outputs": [
    {
     "data": {
      "text/html": [
       "<div>\n",
       "<style scoped>\n",
       "    .dataframe tbody tr th:only-of-type {\n",
       "        vertical-align: middle;\n",
       "    }\n",
       "\n",
       "    .dataframe tbody tr th {\n",
       "        vertical-align: top;\n",
       "    }\n",
       "\n",
       "    .dataframe thead th {\n",
       "        text-align: right;\n",
       "    }\n",
       "</style>\n",
       "<table border=\"1\" class=\"dataframe\">\n",
       "  <thead>\n",
       "    <tr style=\"text-align: right;\">\n",
       "      <th></th>\n",
       "      <th>relative_loss_0</th>\n",
       "      <th>relative_loss_5</th>\n",
       "      <th>val_loss</th>\n",
       "      <th>relative_loss_2</th>\n",
       "      <th>relative_loss_4</th>\n",
       "      <th>val_relative_loss_2</th>\n",
       "      <th>val_relative_loss_1</th>\n",
       "      <th>relative_loss</th>\n",
       "      <th>relative_loss_7</th>\n",
       "      <th>val_relative_loss_3</th>\n",
       "      <th>...</th>\n",
       "      <th>relative_loss_1</th>\n",
       "      <th>val_relative_loss_7</th>\n",
       "      <th>_runtime</th>\n",
       "      <th>relative_loss_3</th>\n",
       "      <th>val_relative_loss_5</th>\n",
       "      <th>loss</th>\n",
       "      <th>relative_loss_8</th>\n",
       "      <th>val_relative_loss</th>\n",
       "      <th>relative_loss_6</th>\n",
       "      <th>trained_tokens</th>\n",
       "    </tr>\n",
       "  </thead>\n",
       "  <tbody>\n",
       "    <tr>\n",
       "      <th>0</th>\n",
       "      <td>NaN</td>\n",
       "      <td>NaN</td>\n",
       "      <td>1.110138</td>\n",
       "      <td>NaN</td>\n",
       "      <td>NaN</td>\n",
       "      <td>1.010493</td>\n",
       "      <td>1.022984</td>\n",
       "      <td>NaN</td>\n",
       "      <td>NaN</td>\n",
       "      <td>1.026951</td>\n",
       "      <td>...</td>\n",
       "      <td>NaN</td>\n",
       "      <td>1.023717</td>\n",
       "      <td>7.232691</td>\n",
       "      <td>NaN</td>\n",
       "      <td>1.033512</td>\n",
       "      <td>NaN</td>\n",
       "      <td>NaN</td>\n",
       "      <td>1.019251</td>\n",
       "      <td>NaN</td>\n",
       "      <td>6400</td>\n",
       "    </tr>\n",
       "    <tr>\n",
       "      <th>1</th>\n",
       "      <td>NaN</td>\n",
       "      <td>NaN</td>\n",
       "      <td>1.104825</td>\n",
       "      <td>NaN</td>\n",
       "      <td>NaN</td>\n",
       "      <td>1.012526</td>\n",
       "      <td>1.016336</td>\n",
       "      <td>NaN</td>\n",
       "      <td>NaN</td>\n",
       "      <td>1.013441</td>\n",
       "      <td>...</td>\n",
       "      <td>NaN</td>\n",
       "      <td>1.014566</td>\n",
       "      <td>9.535803</td>\n",
       "      <td>NaN</td>\n",
       "      <td>1.033028</td>\n",
       "      <td>NaN</td>\n",
       "      <td>NaN</td>\n",
       "      <td>1.014372</td>\n",
       "      <td>NaN</td>\n",
       "      <td>12800</td>\n",
       "    </tr>\n",
       "    <tr>\n",
       "      <th>2</th>\n",
       "      <td>NaN</td>\n",
       "      <td>NaN</td>\n",
       "      <td>1.099393</td>\n",
       "      <td>NaN</td>\n",
       "      <td>NaN</td>\n",
       "      <td>1.005616</td>\n",
       "      <td>1.008751</td>\n",
       "      <td>NaN</td>\n",
       "      <td>NaN</td>\n",
       "      <td>1.014397</td>\n",
       "      <td>...</td>\n",
       "      <td>NaN</td>\n",
       "      <td>1.012702</td>\n",
       "      <td>11.627803</td>\n",
       "      <td>NaN</td>\n",
       "      <td>1.015565</td>\n",
       "      <td>NaN</td>\n",
       "      <td>NaN</td>\n",
       "      <td>1.009385</td>\n",
       "      <td>NaN</td>\n",
       "      <td>19200</td>\n",
       "    </tr>\n",
       "    <tr>\n",
       "      <th>3</th>\n",
       "      <td>NaN</td>\n",
       "      <td>NaN</td>\n",
       "      <td>1.097572</td>\n",
       "      <td>NaN</td>\n",
       "      <td>NaN</td>\n",
       "      <td>1.005091</td>\n",
       "      <td>1.008343</td>\n",
       "      <td>NaN</td>\n",
       "      <td>NaN</td>\n",
       "      <td>1.012091</td>\n",
       "      <td>...</td>\n",
       "      <td>NaN</td>\n",
       "      <td>1.011211</td>\n",
       "      <td>13.656936</td>\n",
       "      <td>NaN</td>\n",
       "      <td>1.007801</td>\n",
       "      <td>NaN</td>\n",
       "      <td>NaN</td>\n",
       "      <td>1.007714</td>\n",
       "      <td>NaN</td>\n",
       "      <td>25600</td>\n",
       "    </tr>\n",
       "    <tr>\n",
       "      <th>4</th>\n",
       "      <td>NaN</td>\n",
       "      <td>NaN</td>\n",
       "      <td>1.096217</td>\n",
       "      <td>NaN</td>\n",
       "      <td>NaN</td>\n",
       "      <td>1.004334</td>\n",
       "      <td>1.006081</td>\n",
       "      <td>NaN</td>\n",
       "      <td>NaN</td>\n",
       "      <td>1.009610</td>\n",
       "      <td>...</td>\n",
       "      <td>NaN</td>\n",
       "      <td>1.009692</td>\n",
       "      <td>15.715376</td>\n",
       "      <td>NaN</td>\n",
       "      <td>1.008344</td>\n",
       "      <td>NaN</td>\n",
       "      <td>NaN</td>\n",
       "      <td>1.006470</td>\n",
       "      <td>NaN</td>\n",
       "      <td>32000</td>\n",
       "    </tr>\n",
       "    <tr>\n",
       "      <th>...</th>\n",
       "      <td>...</td>\n",
       "      <td>...</td>\n",
       "      <td>...</td>\n",
       "      <td>...</td>\n",
       "      <td>...</td>\n",
       "      <td>...</td>\n",
       "      <td>...</td>\n",
       "      <td>...</td>\n",
       "      <td>...</td>\n",
       "      <td>...</td>\n",
       "      <td>...</td>\n",
       "      <td>...</td>\n",
       "      <td>...</td>\n",
       "      <td>...</td>\n",
       "      <td>...</td>\n",
       "      <td>...</td>\n",
       "      <td>...</td>\n",
       "      <td>...</td>\n",
       "      <td>...</td>\n",
       "      <td>...</td>\n",
       "      <td>...</td>\n",
       "    </tr>\n",
       "    <tr>\n",
       "      <th>389538</th>\n",
       "      <td>NaN</td>\n",
       "      <td>NaN</td>\n",
       "      <td>1.089223</td>\n",
       "      <td>NaN</td>\n",
       "      <td>NaN</td>\n",
       "      <td>1.000054</td>\n",
       "      <td>1.000054</td>\n",
       "      <td>NaN</td>\n",
       "      <td>NaN</td>\n",
       "      <td>1.000034</td>\n",
       "      <td>...</td>\n",
       "      <td>NaN</td>\n",
       "      <td>1.000036</td>\n",
       "      <td>798528.457676</td>\n",
       "      <td>NaN</td>\n",
       "      <td>1.000043</td>\n",
       "      <td>NaN</td>\n",
       "      <td>NaN</td>\n",
       "      <td>1.000047</td>\n",
       "      <td>NaN</td>\n",
       "      <td>2493049600</td>\n",
       "    </tr>\n",
       "    <tr>\n",
       "      <th>389539</th>\n",
       "      <td>NaN</td>\n",
       "      <td>NaN</td>\n",
       "      <td>1.089214</td>\n",
       "      <td>NaN</td>\n",
       "      <td>NaN</td>\n",
       "      <td>1.000048</td>\n",
       "      <td>1.000046</td>\n",
       "      <td>NaN</td>\n",
       "      <td>NaN</td>\n",
       "      <td>1.000030</td>\n",
       "      <td>...</td>\n",
       "      <td>NaN</td>\n",
       "      <td>1.000029</td>\n",
       "      <td>798530.500261</td>\n",
       "      <td>NaN</td>\n",
       "      <td>1.000032</td>\n",
       "      <td>NaN</td>\n",
       "      <td>NaN</td>\n",
       "      <td>1.000039</td>\n",
       "      <td>NaN</td>\n",
       "      <td>2493056000</td>\n",
       "    </tr>\n",
       "    <tr>\n",
       "      <th>389540</th>\n",
       "      <td>NaN</td>\n",
       "      <td>NaN</td>\n",
       "      <td>1.089219</td>\n",
       "      <td>NaN</td>\n",
       "      <td>NaN</td>\n",
       "      <td>1.000057</td>\n",
       "      <td>1.000049</td>\n",
       "      <td>NaN</td>\n",
       "      <td>NaN</td>\n",
       "      <td>1.000034</td>\n",
       "      <td>...</td>\n",
       "      <td>NaN</td>\n",
       "      <td>1.000033</td>\n",
       "      <td>798532.661536</td>\n",
       "      <td>NaN</td>\n",
       "      <td>1.000040</td>\n",
       "      <td>NaN</td>\n",
       "      <td>NaN</td>\n",
       "      <td>1.000044</td>\n",
       "      <td>NaN</td>\n",
       "      <td>2493062400</td>\n",
       "    </tr>\n",
       "    <tr>\n",
       "      <th>389541</th>\n",
       "      <td>NaN</td>\n",
       "      <td>NaN</td>\n",
       "      <td>1.089200</td>\n",
       "      <td>NaN</td>\n",
       "      <td>NaN</td>\n",
       "      <td>1.000033</td>\n",
       "      <td>1.000031</td>\n",
       "      <td>NaN</td>\n",
       "      <td>NaN</td>\n",
       "      <td>1.000020</td>\n",
       "      <td>...</td>\n",
       "      <td>NaN</td>\n",
       "      <td>1.000019</td>\n",
       "      <td>798535.080948</td>\n",
       "      <td>NaN</td>\n",
       "      <td>1.000021</td>\n",
       "      <td>NaN</td>\n",
       "      <td>NaN</td>\n",
       "      <td>1.000026</td>\n",
       "      <td>NaN</td>\n",
       "      <td>2493068800</td>\n",
       "    </tr>\n",
       "    <tr>\n",
       "      <th>389542</th>\n",
       "      <td>NaN</td>\n",
       "      <td>NaN</td>\n",
       "      <td>1.089205</td>\n",
       "      <td>NaN</td>\n",
       "      <td>NaN</td>\n",
       "      <td>1.000040</td>\n",
       "      <td>1.000035</td>\n",
       "      <td>NaN</td>\n",
       "      <td>NaN</td>\n",
       "      <td>1.000024</td>\n",
       "      <td>...</td>\n",
       "      <td>NaN</td>\n",
       "      <td>1.000023</td>\n",
       "      <td>798537.173754</td>\n",
       "      <td>NaN</td>\n",
       "      <td>1.000025</td>\n",
       "      <td>NaN</td>\n",
       "      <td>NaN</td>\n",
       "      <td>1.000030</td>\n",
       "      <td>NaN</td>\n",
       "      <td>2493075200</td>\n",
       "    </tr>\n",
       "  </tbody>\n",
       "</table>\n",
       "<p>389543 rows × 28 columns</p>\n",
       "</div>"
      ],
      "text/plain": [
       "        relative_loss_0  relative_loss_5  val_loss  relative_loss_2  \\\n",
       "0                   NaN              NaN  1.110138              NaN   \n",
       "1                   NaN              NaN  1.104825              NaN   \n",
       "2                   NaN              NaN  1.099393              NaN   \n",
       "3                   NaN              NaN  1.097572              NaN   \n",
       "4                   NaN              NaN  1.096217              NaN   \n",
       "...                 ...              ...       ...              ...   \n",
       "389538              NaN              NaN  1.089223              NaN   \n",
       "389539              NaN              NaN  1.089214              NaN   \n",
       "389540              NaN              NaN  1.089219              NaN   \n",
       "389541              NaN              NaN  1.089200              NaN   \n",
       "389542              NaN              NaN  1.089205              NaN   \n",
       "\n",
       "        relative_loss_4  val_relative_loss_2  val_relative_loss_1  \\\n",
       "0                   NaN             1.010493             1.022984   \n",
       "1                   NaN             1.012526             1.016336   \n",
       "2                   NaN             1.005616             1.008751   \n",
       "3                   NaN             1.005091             1.008343   \n",
       "4                   NaN             1.004334             1.006081   \n",
       "...                 ...                  ...                  ...   \n",
       "389538              NaN             1.000054             1.000054   \n",
       "389539              NaN             1.000048             1.000046   \n",
       "389540              NaN             1.000057             1.000049   \n",
       "389541              NaN             1.000033             1.000031   \n",
       "389542              NaN             1.000040             1.000035   \n",
       "\n",
       "        relative_loss  relative_loss_7  val_relative_loss_3  ...  \\\n",
       "0                 NaN              NaN             1.026951  ...   \n",
       "1                 NaN              NaN             1.013441  ...   \n",
       "2                 NaN              NaN             1.014397  ...   \n",
       "3                 NaN              NaN             1.012091  ...   \n",
       "4                 NaN              NaN             1.009610  ...   \n",
       "...               ...              ...                  ...  ...   \n",
       "389538            NaN              NaN             1.000034  ...   \n",
       "389539            NaN              NaN             1.000030  ...   \n",
       "389540            NaN              NaN             1.000034  ...   \n",
       "389541            NaN              NaN             1.000020  ...   \n",
       "389542            NaN              NaN             1.000024  ...   \n",
       "\n",
       "        relative_loss_1  val_relative_loss_7       _runtime  relative_loss_3  \\\n",
       "0                   NaN             1.023717       7.232691              NaN   \n",
       "1                   NaN             1.014566       9.535803              NaN   \n",
       "2                   NaN             1.012702      11.627803              NaN   \n",
       "3                   NaN             1.011211      13.656936              NaN   \n",
       "4                   NaN             1.009692      15.715376              NaN   \n",
       "...                 ...                  ...            ...              ...   \n",
       "389538              NaN             1.000036  798528.457676              NaN   \n",
       "389539              NaN             1.000029  798530.500261              NaN   \n",
       "389540              NaN             1.000033  798532.661536              NaN   \n",
       "389541              NaN             1.000019  798535.080948              NaN   \n",
       "389542              NaN             1.000023  798537.173754              NaN   \n",
       "\n",
       "        val_relative_loss_5  loss  relative_loss_8  val_relative_loss  \\\n",
       "0                  1.033512   NaN              NaN           1.019251   \n",
       "1                  1.033028   NaN              NaN           1.014372   \n",
       "2                  1.015565   NaN              NaN           1.009385   \n",
       "3                  1.007801   NaN              NaN           1.007714   \n",
       "4                  1.008344   NaN              NaN           1.006470   \n",
       "...                     ...   ...              ...                ...   \n",
       "389538             1.000043   NaN              NaN           1.000047   \n",
       "389539             1.000032   NaN              NaN           1.000039   \n",
       "389540             1.000040   NaN              NaN           1.000044   \n",
       "389541             1.000021   NaN              NaN           1.000026   \n",
       "389542             1.000025   NaN              NaN           1.000030   \n",
       "\n",
       "        relative_loss_6  trained_tokens  \n",
       "0                   NaN            6400  \n",
       "1                   NaN           12800  \n",
       "2                   NaN           19200  \n",
       "3                   NaN           25600  \n",
       "4                   NaN           32000  \n",
       "...                 ...             ...  \n",
       "389538              NaN      2493049600  \n",
       "389539              NaN      2493056000  \n",
       "389540              NaN      2493062400  \n",
       "389541              NaN      2493068800  \n",
       "389542              NaN      2493075200  \n",
       "\n",
       "[389543 rows x 28 columns]"
      ]
     },
     "execution_count": 130,
     "metadata": {},
     "output_type": "execute_result"
    }
   ],
   "source": [
    "val_log = persister.load_val_log()\n",
    "val_log\n"
   ]
  },
  {
   "cell_type": "markdown",
   "metadata": {},
   "source": [
    "# Initialize the Mess3 process\n",
    "This library has a Process class that we use to define a data generating HMM.\n",
    "\n",
    "The most important part of the process is the transition matrix, which defines the transitions between states. You can get it via `process.transition_matrix`. It is a numpy array of shape (num_emission, num_states, num_states), and defines the transition probabilities from state i to state j given emission k.\n",
    "\n",
    "The process also has a `state_names_dict`, which is a dictionary mapping state names to state indices. You can get it via `process.state_names_dict`.\n"
   ]
  },
  {
   "cell_type": "code",
   "execution_count": 131,
   "metadata": {},
   "outputs": [
    {
     "name": "stdout",
     "output_type": "stream",
     "text": [
      "mess3 Process\n",
      "Number of states: 3\n",
      "Vocabulary length: 3\n",
      "Transition matrix shape: (3, 3, 3)\n"
     ]
    }
   ],
   "source": [
    "#process = Mess3(0.05, 0.85)\n",
    "process = Mess3(0.15, 0.6)\n",
    "print(process)"
   ]
  },
  {
   "cell_type": "code",
   "execution_count": 132,
   "metadata": {},
   "outputs": [
    {
     "data": {
      "text/plain": [
       "array([[[0.42, 0.03, 0.03],\n",
       "        [0.09, 0.14, 0.03],\n",
       "        [0.09, 0.03, 0.14]],\n",
       "\n",
       "       [[0.14, 0.09, 0.03],\n",
       "        [0.03, 0.42, 0.03],\n",
       "        [0.03, 0.09, 0.14]],\n",
       "\n",
       "       [[0.14, 0.03, 0.09],\n",
       "        [0.03, 0.14, 0.09],\n",
       "        [0.03, 0.03, 0.42]]])"
      ]
     },
     "execution_count": 132,
     "metadata": {},
     "output_type": "execute_result"
    }
   ],
   "source": [
    "process.transition_matrix"
   ]
  },
  {
   "cell_type": "code",
   "execution_count": 133,
   "metadata": {},
   "outputs": [
    {
     "data": {
      "text/plain": [
       "{'A': 0, 'B': 1, 'C': 2}"
      ]
     },
     "execution_count": 133,
     "metadata": {},
     "output_type": "execute_result"
    }
   ],
   "source": [
    "process.state_names_dict"
   ]
  },
  {
   "cell_type": "markdown",
   "metadata": {},
   "source": [
    "# Visualizing the process"
   ]
  },
  {
   "cell_type": "code",
   "execution_count": 134,
   "metadata": {},
   "outputs": [
    {
     "data": {
      "image/png": "[encoded data removed]",
      "text/plain": [
       "<Figure size 640x480 with 1 Axes>"
      ]
     },
     "metadata": {},
     "output_type": "display_data"
    }
   ],
   "source": [
    "from epsilon_transformers.visualization.graph import transition_matrix_to_graph, visualize_graph\n",
    "graph = transition_matrix_to_graph(transition_matrix=process.transition_matrix,state_names=process.state_names_dict)\n",
    "visualize_graph(graph, draw_mixed_state=True, layout='spectral')"
   ]
  },
  {
   "cell_type": "markdown",
   "metadata": {},
   "source": [
    "# Computing the Mixed-State Presentation\n",
    "\n",
    "The computation of the MSP from the process is in two steps:\n",
    "1. Compute a tree of that keeps track of belief states as nodes, and emissions as edges. This is called a `MixedStateTree` and you can get it via `process.derive_mixed_state_presentation(depth=N)`, where N is the maximum length of sequences you want to consider.\n",
    "2. Once we have a tree, we can then compute the MSP via `msp_tree.build_transition_graph()`. This returns a transition matrix which we can then use to create another `Process` using the `TransitionMatrixProcess` class.\n",
    "\n",
    "We go through these steps and then visualize the MSP."
   ]
  },
  {
   "cell_type": "code",
   "execution_count": 136,
   "metadata": {},
   "outputs": [],
   "source": [
    "mixed_state_tree = process.derive_mixed_state_presentation(depth=train_config[\"n_ctx\"] + 1)\n",
    "MSP_transition_matrix = mixed_state_tree.build_msp_transition_matrix()"
   ]
  },
  {
   "cell_type": "markdown",
   "metadata": {},
   "source": [
    "# Simplex Analysis\n",
    "\n",
    "## Ground Truth Simplex\n",
    "\n",
    "To get the ground truth simplex structure, we need to get all paths of any length on the mixed state tree, and their associated belief states. To do this, we use `mixed_state_tree.paths_and_belief_states`, which returns a list of tuples, where the first element is the path, and the second element is the belief state associated with it.\n",
    "\n"
   ]
  },
  {
   "cell_type": "code",
   "execution_count": 137,
   "metadata": {},
   "outputs": [
    {
     "name": "stdout",
     "output_type": "stream",
     "text": [
      "Path: 22211012120, Belief: [0.47544794 0.21715926 0.30739279]\n",
      "Path: 21100011211, Belief: [0.11693872 0.74113877 0.14192251]\n",
      "Path: 21100011212, Belief: [0.14807009 0.31281478 0.53911513]\n",
      "Path: 2221101201, Belief: [0.27819057 0.52751241 0.19429702]\n",
      "Path: 222110212, Belief: [0.15941785 0.27702744 0.56355471]\n"
     ]
    }
   ],
   "source": [
    "# in order to plot the belief states in the simplex, we need to get the paths and beliefs from the MSP\n",
    "tree_paths, tree_beliefs = mixed_state_tree.paths_and_belief_states\n",
    "\n",
    "# lets print out the first few paths and beliefs\n",
    "for path, belief in zip(tree_paths[:5], tree_beliefs[:5]):\n",
    "    print(f\"Path: {''.join([str(x) for x in path])}, Belief: {belief}\")"
   ]
  },
  {
   "cell_type": "code",
   "execution_count": 138,
   "metadata": {},
   "outputs": [
    {
     "name": "stdout",
     "output_type": "stream",
     "text": [
      "Number of Unique beliefs: 265618 out of 265720\n"
     ]
    }
   ],
   "source": [
    "# the MSP states are the unique beliefs in the tree\n",
    "msp_beliefs = [tuple(round(b, 5) for b in belief) for belief in tree_beliefs]\n",
    "print(f\"Number of Unique beliefs: {len(set(msp_beliefs))} out of {len(msp_beliefs)}\")"
   ]
  },
  {
   "cell_type": "code",
   "execution_count": 139,
   "metadata": {},
   "outputs": [
    {
     "name": "stdout",
     "output_type": "stream",
     "text": [
      "(0.58725, 0.27183, 0.14092) is indexed as 0\n",
      "(0.21467, 0.27663, 0.5087) is indexed as 1\n",
      "(0.55006, 0.29545, 0.15449) is indexed as 2\n",
      "(0.10909, 0.13004, 0.76087) is indexed as 3\n",
      "(0.35073, 0.15455, 0.49471) is indexed as 4\n"
     ]
    }
   ],
   "source": [
    "# now lets index each belief\n",
    "msp_belief_index = {b: i for i, b in enumerate(set(msp_beliefs))}\n",
    "\n",
    "for i in range(5):\n",
    "    ith_belief = list(msp_belief_index.keys())[i]\n",
    "    print(f\"{ith_belief} is indexed as {msp_belief_index[ith_belief]}\")"
   ]
  },
  {
   "cell_type": "markdown",
   "metadata": {},
   "source": [
    "# Visualization of the ground truth simplex"
   ]
  },
  {
   "cell_type": "code",
   "execution_count": 140,
   "metadata": {},
   "outputs": [
    {
     "data": {
      "image/png": "[encoded data removed]",
      "text/plain": [
       "<Figure size 450x400 with 1 Axes>"
      ]
     },
     "metadata": {},
     "output_type": "display_data"
    }
   ],
   "source": [
    "ground_truth_simplex = _project_to_simplex(np.array(list(msp_belief_index.keys())))\n",
    "plt.figure(figsize=(4.5, 4))\n",
    "plt.scatter(ground_truth_simplex[0], ground_truth_simplex[1], c=list(msp_belief_index.keys()), alpha=.1, s=1)\n",
    "plt.title(\"Ground Truth Simplex\")\n",
    "plt.gca().set_axis_off()\n",
    "plt.show()\n"
   ]
  },
  {
   "cell_type": "markdown",
   "metadata": {},
   "source": [
    "# Find Simplex in Transformer Activations"
   ]
  },
  {
   "cell_type": "code",
   "execution_count": 141,
   "metadata": {},
   "outputs": [
    {
     "name": "stdout",
     "output_type": "stream",
     "text": [
      "tensor([[2, 2, 2, 1, 1, 0, 1, 2, 0, 1],\n",
      "        [2, 1, 1, 0, 0, 0, 1, 1, 1, 0],\n",
      "        [2, 1, 1, 0, 0, 0, 1, 1, 1, 1],\n",
      "        [2, 1, 1, 0, 0, 0, 1, 1, 1, 2],\n",
      "        [2, 2, 2, 1, 1, 0, 1, 2, 0, 0]], dtype=torch.int32)\n"
     ]
    }
   ],
   "source": [
    "# now lets set up all the inputs as they arrive into the transformer\n",
    "device = 'cpu'\n",
    "transformer_inputs = [x for x in tree_paths if len(x) == train_config[\"n_ctx\"]]\n",
    "transformer_inputs = torch.tensor(transformer_inputs, dtype=torch.int).to(device)\n",
    "\n",
    "# print first few batches\n",
    "print(transformer_inputs[:5])"
   ]
  },
  {
   "cell_type": "code",
   "execution_count": 142,
   "metadata": {},
   "outputs": [
    {
     "name": "stdout",
     "output_type": "stream",
     "text": [
      "Transformer Input Beliefs: torch.Size([59049, 10, 3]), Transformer Input Belief Indices: torch.Size([59049, 10])\n"
     ]
    }
   ],
   "source": [
    "transformer_input_beliefs, transformer_input_belief_indices = get_beliefs_for_transformer_inputs(transformer_inputs, msp_belief_index, tree_paths, tree_beliefs)\n",
    "print(f\"Transformer Input Beliefs: {transformer_input_beliefs.shape}, Transformer Input Belief Indices: {transformer_input_belief_indices.shape}\")"
   ]
  },
  {
   "cell_type": "code",
   "execution_count": 143,
   "metadata": {},
   "outputs": [
    {
     "data": {
      "text/plain": [
       "dict_keys(['blocks.0.hook_resid_post', 'blocks.1.hook_resid_post', 'blocks.2.hook_resid_post', 'blocks.3.hook_resid_post'])"
      ]
     },
     "execution_count": 143,
     "metadata": {},
     "output_type": "execute_result"
    }
   ],
   "source": [
    "_, activations = model.run_with_cache(transformer_inputs, names_filter=lambda x: 'resid_post' in x)\n",
    "#_, activations = model.run_with_cache(transformer_inputs)\n",
    "#activations['blocks.0.hook_resid_mid'].shape  'ln_final.hook_normalized'\n",
    "#activations = activations['blocks.3.hook_resid_post']\n",
    "activations.keys()"
   ]
  },
  {
   "cell_type": "code",
   "execution_count": 144,
   "metadata": {},
   "outputs": [],
   "source": [
    "# we now have activations [batch, n_ctx, d_model]\n",
    "# and we have transformer_input_beliefs [batch, n_ctx, belief_dim]\n",
    "# and we have transformer_input_belief_indices [batch, n_ctx]\n",
    "\n",
    "# in the end we want to do linear regression between the activations and the transformer_input_beliefs\n",
    "def run_activation_to_beliefs_regression(activations, ground_truth_beliefs):\n",
    "\n",
    "    # make sure the first two dimensions are the same\n",
    "    assert activations.shape[0] == ground_truth_beliefs.shape[0]\n",
    "    assert activations.shape[1] == ground_truth_beliefs.shape[1]\n",
    "\n",
    "    # flatten the activations\n",
    "    batch_size, n_ctx, d_model = activations.shape\n",
    "    belief_dim = ground_truth_beliefs.shape[-1]\n",
    "    activations_flattened = activations.view(-1, d_model) # [batch * n_ctx, d_model]\n",
    "    ground_truth_beliefs_flattened = ground_truth_beliefs.view(-1, belief_dim) # [batch * n_ctx, belief_dim]\n",
    "    \n",
    "    # run the regression\n",
    "    regression = LinearRegression()\n",
    "    regression.fit(activations_flattened, ground_truth_beliefs_flattened)\n",
    "\n",
    "    # get the belief predictions\n",
    "    belief_predictions = regression.predict(activations_flattened) # [batch * n_ctx, belief_dim]\n",
    "    belief_predictions = belief_predictions.reshape(batch_size, n_ctx, belief_dim)\n",
    "\n",
    "    return regression, belief_predictions\n",
    "\n"
   ]
  },
  {
   "cell_type": "code",
   "execution_count": 145,
   "metadata": {},
   "outputs": [
    {
     "name": "stdout",
     "output_type": "stream",
     "text": [
      "(59049, 10, 3)\n"
     ]
    }
   ],
   "source": [
    "#acts = torch.concatenate((activations[\"blocks.0.ln1.hook_normalized\"], activations[\"blocks.1.ln1.hook_normalized\"], activations[\"blocks.2.ln1.hook_normalized\"], activations[\"blocks.3.ln1.hook_normalized\"]), dim=-1)\n",
    "#acts = activations['ln_final.hook_normalized']\n",
    "acts = activations['blocks.3.hook_resid_post']\n",
    "regression, belief_predictions = run_activation_to_beliefs_regression(acts, transformer_input_beliefs)\n",
    "print(belief_predictions.shape)\n",
    "\n"
   ]
  },
  {
   "cell_type": "code",
   "execution_count": 146,
   "metadata": {},
   "outputs": [
    {
     "data": {
      "image/png": "[encoded data removed]",
      "text/plain": [
       "<Figure size 600x300 with 2 Axes>"
      ]
     },
     "metadata": {},
     "output_type": "display_data"
    }
   ],
   "source": [
    "from epsilon_transformers.analysis.activation_analysis import find_msp_subspace_in_residual_stream\n",
    "from epsilon_transformers.process.processes import Mess3\n",
    "from epsilon_transformers.visualization.plots import plot_ground_truth_and_evaluated_2d_simplex\n",
    "\n",
    "\n",
    "belief_predictions_flattened = belief_predictions.reshape(-1, 3)\n",
    "transformer_input_belief_flattened = transformer_input_beliefs.reshape(-1, 3)\n",
    "\n",
    "# project to simplex\n",
    "belief_true_projected = _project_to_simplex(transformer_input_belief_flattened)\n",
    "belief_pred_projected = _project_to_simplex(belief_predictions_flattened)\n",
    "\n",
    "rgb_colors =  transformer_input_belief_flattened.cpu().numpy()\n",
    "#rgb_colors = rgb_colors.astype(int)\n",
    "\n",
    "sns.set_context(\"paper\")\n",
    "fig, axes = plt.subplots(1, 2, figsize=(6, 3))\n",
    "\n",
    "# Plotting the true beliefs projected onto the simplex\n",
    "axes[0].scatter(belief_true_projected[0], belief_true_projected[1], marker='.', c=rgb_colors, alpha=0.2, s=0.5)\n",
    "axes[0].axis('off')\n",
    "axes[0].set_title(\"Ground Truth Simplex\")\n",
    "\n",
    "# Plotting the predicted beliefs projected onto the simplex\n",
    "axes[1].scatter(belief_pred_projected[0], belief_pred_projected[1], marker='.', c=rgb_colors, alpha=0.3, s=0.01)\n",
    "axes[1].axis('off')\n",
    "axes[1].set_title(\"Residual Stream Simplex\")\n",
    "\n",
    "# Adjust layout for better spacing\n",
    "plt.tight_layout()\n",
    "\n",
    "# Display the figure\n",
    "plt.show()\n",
    "\n"
   ]
  }
 ],
 "metadata": {
  "kernelspec": {
   "display_name": "epsilon-machine",
   "language": "python",
   "name": "python3"
  },
  "language_info": {
   "codemirror_mode": {
    "name": "ipython",
    "version": 3
   },
   "file_extension": ".py",
   "mimetype": "text/x-python",
   "name": "python",
   "nbconvert_exporter": "python",
   "pygments_lexer": "ipython3",
   "version": "3.11.7"
  }
 },
 "nbformat": 4,
 "nbformat_minor": 2
}
