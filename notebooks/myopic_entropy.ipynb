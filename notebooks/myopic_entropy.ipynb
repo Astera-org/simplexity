{
    "cells": [
        {
            "cell_type": "code",
            "execution_count": 1,
            "metadata": {},
            "outputs": [],
            "source": [
                "import matplotlib.pyplot as plt\n",
                "from matplotlib.axes import Axes\n",
                "\n",
                "from simplexity.generative_processes.builder import build_hidden_markov_model\n",
                "from simplexity.generative_processes.mixed_state_presentation import LogMixedStateTreeGenerator, MyopicEntropies"
            ]
        },
        {
            "cell_type": "code",
            "execution_count": 2,
            "metadata": {},
            "outputs": [],
            "source": [
                "def plot_entropies(entropies: MyopicEntropies, title: str = \"\") -> None:\n",
                "    \"\"\"Plot the entropies of a generative process.\"\"\"\n",
                "\n",
                "    def format_axes(ax: Axes) -> None:\n",
                "        ax.set_title(title)\n",
                "        ax.set_xlabel(\"Sequence Length\")\n",
                "        ax.minorticks_off()\n",
                "        ax.set_xticks(entropies.sequence_lengths)\n",
                "        ax.set_xticklabels(map(str, entropies.sequence_lengths))\n",
                "        ax.set_ylim(bottom=0)\n",
                "\n",
                "    _, axs = plt.subplots(1, 2, figsize=(10, 5))\n",
                "    axs[0].plot(entropies.belief_state_entropies, marker=\"o\")\n",
                "    axs[0].set_ylabel(\"Belief State Entropy\")\n",
                "    format_axes(axs[0])\n",
                "    axs[1].plot(entropies.observation_entropies, marker=\"o\")\n",
                "    axs[1].set_ylabel(\"Observation Entropy\")\n",
                "    format_axes(axs[1])\n",
                "    plt.show()"
            ]
        },
        {
            "cell_type": "code",
            "execution_count": null,
            "metadata": {},
            "outputs": [],
            "source": [
                "hmm = build_hidden_markov_model(\"days_of_week\")\n",
                "generator = LogMixedStateTreeGenerator(hmm, max_sequence_length=4)\n",
                "entropies = generator.compute_myopic_entropy()\n",
                "plot_entropies(entropies, title=\"days_of_week\")"
            ]
        },
        {
            "cell_type": "code",
            "execution_count": null,
            "metadata": {},
            "outputs": [],
            "source": [
                "hmm = build_hidden_markov_model(\"even_ones\", p=0.5)\n",
                "generator = LogMixedStateTreeGenerator(hmm, max_sequence_length=10)\n",
                "entropies = generator.compute_myopic_entropy()\n",
                "plot_entropies(entropies, title=\"even_ones\")"
            ]
        },
        {
            "cell_type": "code",
            "execution_count": null,
            "metadata": {},
            "outputs": [],
            "source": [
                "hmm = build_hidden_markov_model(\"mess3\", a=0.6, x=0.15)\n",
                "generator = LogMixedStateTreeGenerator(hmm, max_sequence_length=6)\n",
                "entropies = generator.compute_myopic_entropy()\n",
                "plot_entropies(entropies, title=\"mess3\")"
            ]
        },
        {
            "cell_type": "code",
            "execution_count": null,
            "metadata": {},
            "outputs": [],
            "source": [
                "hmm = build_hidden_markov_model(\"no_consecutive_ones\", p=0.5)\n",
                "generator = LogMixedStateTreeGenerator(hmm, max_sequence_length=2)\n",
                "entropies = generator.compute_myopic_entropy()\n",
                "plot_entropies(entropies, title=\"no_consecutive_ones\")"
            ]
        },
        {
            "cell_type": "code",
            "execution_count": null,
            "metadata": {},
            "outputs": [],
            "source": [
                "hmm = build_hidden_markov_model(\"rrxor\", pR1=0.5, pR2=0.5)\n",
                "generator = LogMixedStateTreeGenerator(hmm, max_sequence_length=10)\n",
                "entropies = generator.compute_myopic_entropy()\n",
                "plot_entropies(entropies, title=\"rrxor\")"
            ]
        },
        {
            "cell_type": "code",
            "execution_count": null,
            "metadata": {},
            "outputs": [],
            "source": [
                "hmm = build_hidden_markov_model(\"zero_one_random\", p=0.5)\n",
                "generator = LogMixedStateTreeGenerator(hmm, max_sequence_length=4)\n",
                "entropies = generator.compute_myopic_entropy()\n",
                "plot_entropies(entropies, title=\"zero_one_random\")"
            ]
        }
    ],
    "metadata": {
        "language_info": {
            "name": "python"
        }
    },
    "nbformat": 4,
    "nbformat_minor": 2
}
