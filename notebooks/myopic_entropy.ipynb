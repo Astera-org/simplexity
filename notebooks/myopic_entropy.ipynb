{
 "cells": [
  {
   "cell_type": "code",
   "execution_count": 23,
   "metadata": {},
   "outputs": [],
   "source": [
    "from collections import defaultdict\n",
    "from collections.abc import Callable\n",
    "\n",
    "import equinox as eqx\n",
    "import jax\n",
    "import jax.numpy as jnp\n",
    "import matplotlib.pyplot as plt\n",
    "from matplotlib.axes import Axes\n",
    "\n",
    "from simplexity.generative_processes.generalized_hidden_markov_model import GeneralizedHiddenMarkovModel\n",
    "from simplexity.generative_processes.hidden_markov_model import HiddenMarkovModel\n",
    "from simplexity.generative_processes.mixed_state_presentation import (\n",
    "    MixedStateTree,\n",
    "    MixedStateTreeGenerator,\n",
    "    NodeDictValue,\n",
    "    SearchAlgorithm,\n",
    ")"
   ]
  },
  {
   "cell_type": "code",
   "execution_count": 2,
   "metadata": {},
   "outputs": [],
   "source": [
    "class Entropies(eqx.Module):\n",
    "    \"\"\"Entropies of a generative process.\"\"\"\n",
    "    belief_state_entropy: jax.Array\n",
    "    obs_entropy: jax.Array"
   ]
  },
  {
   "cell_type": "code",
   "execution_count": 3,
   "metadata": {},
   "outputs": [],
   "source": [
    "def get_node_vals_by_seq_len(tree: MixedStateTree) -> dict[int, list[NodeDictValue]]:\n",
    "    \"\"\"Group node values into lists by sequence length.\"\"\"\n",
    "    node_vals_by_seq_len = defaultdict(list)\n",
    "    for sequence, values in tree.nodes.items():\n",
    "        k = len(sequence)\n",
    "        node_vals_by_seq_len[k].append(values)\n",
    "    return node_vals_by_seq_len"
   ]
  },
  {
   "cell_type": "code",
   "execution_count": 4,
   "metadata": {},
   "outputs": [],
   "source": [
    "def validate_node_vals_by_seq_len(node_vals_by_seq_len: dict[int, list[NodeDictValue]], num_obs: int) -> None:\n",
    "    \"\"\"Check for the expected number of node values for each sequence length.\"\"\"\n",
    "    max_sequence_length = max(node_vals_by_seq_len.keys())\n",
    "    assert set(node_vals_by_seq_len.keys()) == set(range(max_sequence_length + 1))\n",
    "    assert all(len(node_vals_by_seq_len[length]) == num_obs ** length for length in node_vals_by_seq_len)"
   ]
  },
  {
   "cell_type": "code",
   "execution_count": 5,
   "metadata": {},
   "outputs": [],
   "source": [
    "def validate_log_probs(log_probs: jax.Array) -> None:\n",
    "    \"\"\"Validate that the total probability of a log probability array is 1.\"\"\"\n",
    "    log_total_prob = jax.nn.logsumexp(log_probs)\n",
    "    assert jnp.allclose(log_total_prob, 0, atol=1e-7)"
   ]
  },
  {
   "cell_type": "code",
   "execution_count": 6,
   "metadata": {},
   "outputs": [],
   "source": [
    "def log_weighted_average(log_values: jax.Array, log_probs: jax.Array) -> jax.Array:\n",
    "    \"\"\"Compute the weighted average of a log probability distribution.\"\"\"\n",
    "    return jax.nn.logsumexp(log_probs[:, None] + log_values, axis=0)"
   ]
  },
  {
   "cell_type": "code",
   "execution_count": 7,
   "metadata": {},
   "outputs": [],
   "source": [
    "def entropy(log_probs: jax.Array) -> jax.Array:\n",
    "    \"\"\"Compute the entropy of a log probability distribution.\"\"\"\n",
    "    return -jnp.sum(jnp.exp(log_probs) * log_probs)"
   ]
  },
  {
   "cell_type": "code",
   "execution_count": 8,
   "metadata": {},
   "outputs": [],
   "source": [
    "def compute_entropies_from_nodes(\n",
    "        node_vals_by_seq_len: dict[int, list[NodeDictValue]], log_obs_dist_fn: Callable[[jax.Array], jax.Array]\n",
    "    ) -> Entropies:\n",
    "    \"\"\"Compute the entropies as a function of sequence length for a generative process from its mixed state nodes.\"\"\"\n",
    "    max_sequence_length = max(node_vals_by_seq_len.keys())\n",
    "    belief_state_entropy = jnp.zeros(max_sequence_length + 1)\n",
    "    obs_entropy = jnp.zeros(max_sequence_length + 1)\n",
    "\n",
    "    for sequence_length, node_values in node_vals_by_seq_len.items():\n",
    "        log_probs = jnp.array([node_values.log_probability for node_values in node_values])\n",
    "        validate_log_probs(log_probs)\n",
    "        log_belief_state_dists = jnp.stack([jnp.array(node_values.log_belief_state) for node_values in node_values])\n",
    "        log_obs_dists = log_obs_dist_fn(log_belief_state_dists)\n",
    "        log_belief_state_dist = log_weighted_average(log_belief_state_dists, log_probs)\n",
    "        log_obs_dist = log_weighted_average(log_obs_dists, log_probs)\n",
    "        belief_state_entropy = belief_state_entropy.at[sequence_length].set(entropy(log_belief_state_dist))\n",
    "        obs_entropy = obs_entropy.at[sequence_length].set(entropy(log_obs_dist))\n",
    "\n",
    "    return Entropies(belief_state_entropy, obs_entropy)"
   ]
  },
  {
   "cell_type": "code",
   "execution_count": 9,
   "metadata": {},
   "outputs": [],
   "source": [
    "def compute_entropies(ghmm: GeneralizedHiddenMarkovModel, max_sequence_length: int) -> Entropies:\n",
    "    \"\"\"Compute the entropies as a function of sequence length for a generative process.\"\"\"\n",
    "    generator = MixedStateTreeGenerator(ghmm, max_sequence_length)\n",
    "    tree = generator.generate(SearchAlgorithm.DEPTH_FIRST)\n",
    "    node_vals_by_seq_len = get_node_vals_by_seq_len(tree)\n",
    "    validate_node_vals_by_seq_len(node_vals_by_seq_len, ghmm.num_observations)\n",
    "    log_obs_dist_fn = eqx.filter_vmap(ghmm.log_observation_probability_distribution)\n",
    "    return compute_entropies_from_nodes(node_vals_by_seq_len, log_obs_dist_fn)"
   ]
  },
  {
   "cell_type": "code",
   "execution_count": 26,
   "metadata": {},
   "outputs": [],
   "source": [
    "def plot_entropies(entropies: Entropies, title: str = \"\") -> None:\n",
    "    \"\"\"Plot the entropies of a generative process.\"\"\"\n",
    "    sequence_lengths = list(range(len(entropies.belief_state_entropy)))\n",
    "\n",
    "    def format_axes(ax: Axes) -> None:\n",
    "        ax.set_title(title)\n",
    "        ax.set_xlabel(\"Sequence Length\")\n",
    "        ax.minorticks_off()\n",
    "        ax.set_xticks(sequence_lengths)\n",
    "        ax.set_xticklabels(map(str, sequence_lengths))\n",
    "\n",
    "    _, axs = plt.subplots(1, 2, figsize=(10, 5))\n",
    "    axs[0].plot(entropies.belief_state_entropy, marker=\"o\")\n",
    "    axs[0].set_ylabel(\"Belief State Entropy\")\n",
    "    format_axes(axs[0])\n",
    "    axs[1].plot(entropies.obs_entropy, marker=\"o\")\n",
    "    axs[1].set_ylabel(\"Observation Entropy\")\n",
    "    format_axes(axs[1])\n",
    "    plt.show()"
   ]
  },
  {
   "cell_type": "code",
   "execution_count": null,
   "metadata": {},
   "outputs": [],
   "source": [
    "from simplexity.generative_processes.transition_matrices import zero_one_random  # noqa: E402\n",
    "\n",
    "transition_matrices = zero_one_random()\n",
    "hmm = HiddenMarkovModel(transition_matrices)\n",
    "entropies = compute_entropies(hmm, max_sequence_length=2)\n",
    "plot_entropies(entropies, title=\"z1r\")"
   ]
  }
 ],
 "metadata": {
  "language_info": {
   "name": "python"
  }
 },
 "nbformat": 4,
 "nbformat_minor": 2
}
