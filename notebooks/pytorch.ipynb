{
 "cells": [
  {
   "cell_type": "code",
   "execution_count": 1,
   "metadata": {},
   "outputs": [],
   "source": [
    "import jax\n",
    "import jax.numpy as jnp\n",
    "\n",
    "from simplexity.generative_processes.builder import build_hidden_markov_model\n",
    "from simplexity.generative_processes.torch_generator import generate_data_batch"
   ]
  },
  {
   "cell_type": "code",
   "execution_count": 4,
   "metadata": {},
   "outputs": [
    {
     "name": "stdout",
     "output_type": "stream",
     "text": [
      "inputs.shape=torch.Size([10, 99])\n",
      "inputs.device=device(type='cuda', index=0)\n",
      "inputs.dtype=torch.int32\n",
      "\n",
      "labels.shape=torch.Size([10, 99])\n",
      "labels.device=device(type='cuda', index=0)\n",
      "labels.dtype=torch.int32\n",
      "\n",
      "gen_states.shape=torch.Size([10, 3])\n",
      "gen_states.device=device(type='cuda', index=0)\n",
      "gen_states.dtype=torch.float32\n"
     ]
    }
   ],
   "source": [
    "batch_size = 10\n",
    "sequence_len = 100\n",
    "\n",
    "data_generator = build_hidden_markov_model(\"mess3\", x=0.16, a=0.6)\n",
    "gen_state = data_generator.initial_state\n",
    "gen_states = jnp.repeat(gen_state[None, :], batch_size, axis=0)\n",
    "key = jax.random.PRNGKey(0)\n",
    "gen_states, inputs, labels = generate_data_batch(gen_states, data_generator, batch_size, sequence_len, key)\n",
    "\n",
    "print(f\"{inputs.shape=}\")\n",
    "print(f\"{inputs.device=}\")\n",
    "print(f\"{inputs.dtype=}\")\n",
    "print()\n",
    "\n",
    "print(f\"{labels.shape=}\")\n",
    "print(f\"{labels.device=}\")\n",
    "print(f\"{labels.dtype=}\")\n",
    "print()\n",
    "\n",
    "print(f\"{gen_states.shape=}\")\n",
    "print(f\"{gen_states.device=}\")\n",
    "print(f\"{gen_states.dtype=}\")"
   ]
  },
  {
   "cell_type": "code",
   "execution_count": null,
   "metadata": {},
   "outputs": [],
   "source": []
  }
 ],
 "metadata": {
  "kernelspec": {
   "display_name": ".venv",
   "language": "python",
   "name": "python3"
  },
  "language_info": {
   "codemirror_mode": {
    "name": "ipython",
    "version": 3
   },
   "file_extension": ".py",
   "mimetype": "text/x-python",
   "name": "python",
   "nbconvert_exporter": "python",
   "pygments_lexer": "ipython3",
   "version": "3.13.0"
  }
 },
 "nbformat": 4,
 "nbformat_minor": 2
}
