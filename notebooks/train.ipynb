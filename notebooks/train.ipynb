{
 "cells": [
  {
   "cell_type": "code",
   "execution_count": 1,
   "metadata": {},
   "outputs": [],
   "source": [
    "from pathlib import Path\n",
    "from typing import Any\n",
    "\n",
    "import equinox as eqx\n",
    "import jax\n",
    "import jax.numpy as jnp\n",
    "import matplotlib.pyplot as plt\n",
    "import optax\n",
    "import treescope\n",
    "from penzai import pz\n",
    "\n",
    "from simplexity.generative_processes.hidden_markov_model import HiddenMarkovModel\n",
    "from simplexity.generative_processes.transition_matrices import mess3\n",
    "from simplexity.predictive_models.rnn import RNN\n",
    "from simplexity.training.train import train\n"
   ]
  },
  {
   "cell_type": "code",
   "execution_count": 2,
   "metadata": {},
   "outputs": [],
   "source": [
    "treescope.basic_interactive_setup(autovisualize_arrays=True)"
   ]
  },
  {
   "cell_type": "code",
   "execution_count": null,
   "metadata": {},
   "outputs": [],
   "source": [
    "key = jax.random.PRNGKey(0)\n",
    "\n",
    "transition_matrices = mess3(x=0.15, a=0.6)\n",
    "vocab_size = transition_matrices.shape[0]\n",
    "generative_process = HiddenMarkovModel(transition_matrices)\n",
    "initial_gen_process_state = generative_process.state_eigenvector\n",
    "\n",
    "hidden_size = 64\n",
    "hidden_sizes = [hidden_size] * 4\n",
    "seed = 0\n",
    "model = RNN(in_size=1, out_size=vocab_size, hidden_sizes=hidden_sizes, seed=seed)\n",
    "optimizer = optax.adam(learning_rate=0.001)\n",
    "\n",
    "sequence_len = 64\n",
    "batch_size = 128\n",
    "num_epochs = 1000"
   ]
  },
  {
   "cell_type": "code",
   "execution_count": 4,
   "metadata": {},
   "outputs": [],
   "source": [
    "model, losses = train(\n",
    "    key,\n",
    "    model,\n",
    "    optimizer,\n",
    "    generative_process,\n",
    "    initial_gen_process_state,\n",
    "    num_epochs,\n",
    "    batch_size,\n",
    "    sequence_len,\n",
    "    log_every = 1,\n",
    ")"
   ]
  },
  {
   "cell_type": "code",
   "execution_count": null,
   "metadata": {},
   "outputs": [],
   "source": [
    "plt.plot(losses)"
   ]
  },
  {
   "cell_type": "code",
   "execution_count": 6,
   "metadata": {},
   "outputs": [],
   "source": [
    "@pz.pytree_dataclass\n",
    "class SaveActivations(pz.nn.Layer):\n",
    "  saved_activations: pz.StateVariable[list[Any]]\n",
    "  def __call__(self, activations: Any, **unused_side_inputs) -> Any:\n",
    "    self.saved_activations.value = self.saved_activations.value + [activations]\n",
    "    return activations"
   ]
  },
  {
   "cell_type": "code",
   "execution_count": null,
   "metadata": {},
   "outputs": [],
   "source": [
    "saved_activations = pz.StateVariable(value=[], label=\"activations\")\n",
    "\n",
    "saving_model = (\n",
    "    pz.select(model)\n",
    "    .at_instances_of(eqx.nn.Lambda)\n",
    "    .insert_after(SaveActivations(saved_activations))\n",
    ")\n",
    "\n",
    "saving_model"
   ]
  },
  {
   "cell_type": "code",
   "execution_count": null,
   "metadata": {},
   "outputs": [],
   "source": [
    "gen_process_states = jnp.repeat(initial_gen_process_state[None, :], batch_size, axis=0)\n",
    "batch_keys = jax.random.split(key, batch_size)\n",
    "_, obs = generative_process.generate(gen_process_states, batch_keys, sequence_len)\n",
    "obs = obs[:, :, None]\n",
    "pz.nx.wrap(obs, \"batch\", \"sequence\", \"features\")"
   ]
  },
  {
   "cell_type": "code",
   "execution_count": null,
   "metadata": {},
   "outputs": [],
   "source": [
    "logits = eqx.filter_vmap(saving_model)(obs)\n",
    "logits = pz.nx.wrap(logits, \"batch\", \"sequence\", \"vocab\")\n",
    "logits"
   ]
  },
  {
   "cell_type": "code",
   "execution_count": null,
   "metadata": {},
   "outputs": [],
   "source": [
    "saved_activations = saved_activations.__class__(\n",
    "    value=[value.val for value in saved_activations.value],  # Convert batch traced array to regular array\n",
    "    label=saved_activations.label,\n",
    "    metadata=saved_activations.metadata,\n",
    ")\n",
    "\n",
    "saved_activations"
   ]
  },
  {
   "cell_type": "code",
   "execution_count": 6,
   "metadata": {},
   "outputs": [],
   "source": [
    "repo_dir = Path(\"/workspaces/simplexity\")\n",
    "checkpoints_dir = repo_dir / \"checkpoints\"\n",
    "\n",
    "if not checkpoints_dir.exists():\n",
    "  checkpoints_dir.mkdir(parents=True)\n",
    "\n",
    "model_path = checkpoints_dir / \"model.eqx\"\n",
    "eqx.tree_serialise_leaves(model_path, model)\n"
   ]
  },
  {
   "cell_type": "code",
   "execution_count": 7,
   "metadata": {},
   "outputs": [],
   "source": [
    "model = eqx.tree_deserialise_leaves(model_path, model)"
   ]
  }
 ],
 "metadata": {
  "language_info": {
   "name": "python"
  }
 },
 "nbformat": 4,
 "nbformat_minor": 2
}
