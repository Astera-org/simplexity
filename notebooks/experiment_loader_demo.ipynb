{
 "cells": [
  {
   "cell_type": "markdown",
   "metadata": {},
   "source": [
    "# ExperimentLoader + MLflow Smoke Test\n",
    "\n",
    "This notebook demonstrates loading a run's config, metrics, and model using `ExperimentLoader` and the new MLflow reader.\n",
    "\n",
    "Prerequisites:\n",
    "- Access to the MLflow tracking server (Databricks).\n",
    "- Local environment has Databricks credentials available (host/token), or you pass `tracking_uri=\"databricks\"`.\n",
    "\n",
    "You can change `run_id` below to any run you want to inspect."
   ]
  },
  {
   "cell_type": "code",
   "execution_count": 1,
   "metadata": {},
   "outputs": [
    {
     "name": "stdout",
     "output_type": "stream",
     "text": [
      "Using run_id=138baafac5a34726ab070bb1be72a83d, tracking_uri=databricks\n"
     ]
    }
   ],
   "source": [
    "# --- Configuration ---\n",
    "run_id = \"138baafac5a34726ab070bb1be72a83d\"  # Replace if desired\n",
    "tracking_uri = \"databricks\"  # Use 'databricks' or None to rely on env\n",
    "print(f'Using run_id={run_id}, tracking_uri={tracking_uri}')"
   ]
  },
  {
   "cell_type": "code",
   "execution_count": 2,
   "metadata": {},
   "outputs": [
    {
     "name": "stdout",
     "output_type": "stream",
     "text": [
      "Loader created.\n"
     ]
    }
   ],
   "source": [
    "# --- Import the loader ---\n",
    "from simplexity.loaders import ExperimentLoader\n",
    "\n",
    "loader = ExperimentLoader.from_mlflow(run_id, tracking_uri=tracking_uri)\n",
    "print('Loader created.')"
   ]
  },
  {
   "cell_type": "code",
   "execution_count": 3,
   "metadata": {},
   "outputs": [
    {
     "data": {
      "application/vnd.jupyter.widget-view+json": {
       "model_id": "7d2996934aaa434dbb67de86fcc5cb5b",
       "version_major": 2,
       "version_minor": 0
      },
      "text/plain": [
       "Downloading artifacts:   0%|          | 0/1 [00:00<?, ?it/s]"
      ]
     },
     "metadata": {},
     "output_type": "display_data"
    },
    {
     "name": "stdout",
     "output_type": "stream",
     "text": [
      "Predictive model target: transformer_lens.HookedTransformer\n",
      "Has persistence: True\n",
      "Persister target: simplexity.persistence.s3_persister.S3Persister.from_config\n"
     ]
    },
    {
     "data": {
      "text/plain": [
       "{'seed': 42, 'device': 'auto', 'experiment_name': 'example_basic_mess3', 'run_name': '2025-09-09_22-09-10_example_basic_mess3_42', 'training_data_generator': {'name': 'mess3_085', 'vocab_size': 4, 'instance': {'_target_': 'simplexity.generative_processes.builder.build_hidden_markov_model', 'process_name': 'mess3', 'x': 0.05, 'a': 0.85}, 'bos_token': 3, 'eos_token': None}, 'validation_data_generator': {'name': 'mess3_085', 'vocab_size': 4, 'instance': {'_target_': 'simplexity.generative_processes.builder.build_hidden_markov_model', 'process_name': 'mess3', 'x': 0.05, 'a': 0.85}, 'bos_token': 3, 'eos_token': None}, 'predictive_model': {'name': 'transformer_lens_2L4H', 'instance': {'_target_': 'transformer_lens.HookedTransformer', 'cfg': {'_target_': 'transformer_lens.HookedTransformerConfig', 'n_layers': 2, 'n_heads': 4, 'd_model': 64, 'd_head': 16, 'n_ctx': 6, 'd_vocab': 4, 'act_fn': 'relu', 'normalization_type': 'LN', 'positional_embedding_type': 'standard', 'attn_only': False, 'seed': 42, 'device': 'auto'}}, 'load_checkpoint_step': None}, 'persistence': {'name': 's3_persister', 'instance': {'_target_': 'simplexity.persistence.s3_persister.S3Persister.from_config', 'prefix': 'example_basic_mess3/2025-09-09_22-09-10_example_basic_mess3_42', 'model_framework': 'pytorch', 'config_filename': 'config.ini'}}, 'logging': {'name': 'mlflow_logger', 'instance': {'_target_': 'simplexity.logging.mlflow_logger.MLFlowLogger', 'experiment_name': '/Shared/example_basic_mess3', 'run_name': '2025-09-09_22-09-10_example_basic_mess3_42', 'tracking_uri': 'databricks'}}, 'training': {'seed': 42, 'sequence_len': 6, 'batch_size': 10240, 'num_steps': 10000, 'log_every': 1, 'validate_every': 200, 'checkpoint_every': 500, 'optimizer': {'name': 'pytorch_adam', 'instance': {'_target_': 'torch.optim.Adam', 'lr': 0.0001, 'betas': [0.9, 0.999], 'eps': 1e-08, 'weight_decay': 0.0}}}, 'validation': {'seed': 42, 'sequence_len': 6, 'batch_size': 1024, 'num_steps': 10, 'log_every': None}}"
      ]
     },
     "execution_count": 3,
     "metadata": {},
     "output_type": "execute_result"
    }
   ],
   "source": [
    "# --- Load and inspect the run config ---\n",
    "cfg = loader.load_config()\n",
    "print('Predictive model target:', cfg.predictive_model.instance._target_)\n",
    "print('Has persistence:', bool(cfg.persistence))\n",
    "if cfg.persistence:\n",
    "    print('Persister target:', cfg.persistence.instance._target_)\n",
    "cfg"
   ]
  },
  {
   "cell_type": "code",
   "execution_count": 4,
   "metadata": {},
   "outputs": [
    {
     "ename": "InstantiationException",
     "evalue": "Error locating target 'transformer_lens.HookedTransformer', set env var HYDRA_FULL_ERROR=1 to see chained exception.\nfull_key: predictive_model.instance",
     "output_type": "error",
     "traceback": [
      "\u001b[31m---------------------------------------------------------------------------\u001b[39m",
      "\u001b[31mModuleNotFoundError\u001b[39m                       Traceback (most recent call last)",
      "\u001b[36mFile \u001b[39m\u001b[32m~/Documents/GitHub/simplexity/.venv/lib/python3.12/site-packages/hydra/_internal/utils.py:635\u001b[39m, in \u001b[36m_locate\u001b[39m\u001b[34m(path)\u001b[39m\n\u001b[32m    634\u001b[39m \u001b[38;5;28;01mtry\u001b[39;00m:\n\u001b[32m--> \u001b[39m\u001b[32m635\u001b[39m     obj = \u001b[43mimport_module\u001b[49m\u001b[43m(\u001b[49m\u001b[43mpart0\u001b[49m\u001b[43m)\u001b[49m\n\u001b[32m    636\u001b[39m \u001b[38;5;28;01mexcept\u001b[39;00m \u001b[38;5;167;01mException\u001b[39;00m \u001b[38;5;28;01mas\u001b[39;00m exc_import:\n",
      "\u001b[36mFile \u001b[39m\u001b[32m/opt/homebrew/Cellar/python@3.12/3.12.6/Frameworks/Python.framework/Versions/3.12/lib/python3.12/importlib/__init__.py:90\u001b[39m, in \u001b[36mimport_module\u001b[39m\u001b[34m(name, package)\u001b[39m\n\u001b[32m     89\u001b[39m         level += \u001b[32m1\u001b[39m\n\u001b[32m---> \u001b[39m\u001b[32m90\u001b[39m \u001b[38;5;28;01mreturn\u001b[39;00m \u001b[43m_bootstrap\u001b[49m\u001b[43m.\u001b[49m\u001b[43m_gcd_import\u001b[49m\u001b[43m(\u001b[49m\u001b[43mname\u001b[49m\u001b[43m[\u001b[49m\u001b[43mlevel\u001b[49m\u001b[43m:\u001b[49m\u001b[43m]\u001b[49m\u001b[43m,\u001b[49m\u001b[43m \u001b[49m\u001b[43mpackage\u001b[49m\u001b[43m,\u001b[49m\u001b[43m \u001b[49m\u001b[43mlevel\u001b[49m\u001b[43m)\u001b[49m\n",
      "\u001b[36mFile \u001b[39m\u001b[32m<frozen importlib._bootstrap>:1387\u001b[39m, in \u001b[36m_gcd_import\u001b[39m\u001b[34m(name, package, level)\u001b[39m\n",
      "\u001b[36mFile \u001b[39m\u001b[32m<frozen importlib._bootstrap>:1360\u001b[39m, in \u001b[36m_find_and_load\u001b[39m\u001b[34m(name, import_)\u001b[39m\n",
      "\u001b[36mFile \u001b[39m\u001b[32m<frozen importlib._bootstrap>:1324\u001b[39m, in \u001b[36m_find_and_load_unlocked\u001b[39m\u001b[34m(name, import_)\u001b[39m\n",
      "\u001b[31mModuleNotFoundError\u001b[39m: No module named 'transformer_lens'",
      "\nThe above exception was the direct cause of the following exception:\n",
      "\u001b[31mImportError\u001b[39m                               Traceback (most recent call last)",
      "\u001b[36mFile \u001b[39m\u001b[32m~/Documents/GitHub/simplexity/.venv/lib/python3.12/site-packages/hydra/_internal/instantiate/_instantiate2.py:134\u001b[39m, in \u001b[36m_resolve_target\u001b[39m\u001b[34m(target, full_key)\u001b[39m\n\u001b[32m    133\u001b[39m \u001b[38;5;28;01mtry\u001b[39;00m:\n\u001b[32m--> \u001b[39m\u001b[32m134\u001b[39m     target = \u001b[43m_locate\u001b[49m\u001b[43m(\u001b[49m\u001b[43mtarget\u001b[49m\u001b[43m)\u001b[49m\n\u001b[32m    135\u001b[39m \u001b[38;5;28;01mexcept\u001b[39;00m \u001b[38;5;167;01mException\u001b[39;00m \u001b[38;5;28;01mas\u001b[39;00m e:\n",
      "\u001b[36mFile \u001b[39m\u001b[32m~/Documents/GitHub/simplexity/.venv/lib/python3.12/site-packages/hydra/_internal/utils.py:637\u001b[39m, in \u001b[36m_locate\u001b[39m\u001b[34m(path)\u001b[39m\n\u001b[32m    636\u001b[39m \u001b[38;5;28;01mexcept\u001b[39;00m \u001b[38;5;167;01mException\u001b[39;00m \u001b[38;5;28;01mas\u001b[39;00m exc_import:\n\u001b[32m--> \u001b[39m\u001b[32m637\u001b[39m     \u001b[38;5;28;01mraise\u001b[39;00m \u001b[38;5;167;01mImportError\u001b[39;00m(\n\u001b[32m    638\u001b[39m         \u001b[33mf\u001b[39m\u001b[33m\"\u001b[39m\u001b[33mError loading \u001b[39m\u001b[33m'\u001b[39m\u001b[38;5;132;01m{\u001b[39;00mpath\u001b[38;5;132;01m}\u001b[39;00m\u001b[33m'\u001b[39m\u001b[33m:\u001b[39m\u001b[38;5;130;01m\\n\u001b[39;00m\u001b[38;5;132;01m{\u001b[39;00m\u001b[38;5;28mrepr\u001b[39m(exc_import)\u001b[38;5;132;01m}\u001b[39;00m\u001b[33m\"\u001b[39m\n\u001b[32m    639\u001b[39m         + \u001b[33mf\u001b[39m\u001b[33m\"\u001b[39m\u001b[38;5;130;01m\\n\u001b[39;00m\u001b[33mAre you sure that module \u001b[39m\u001b[33m'\u001b[39m\u001b[38;5;132;01m{\u001b[39;00mpart0\u001b[38;5;132;01m}\u001b[39;00m\u001b[33m'\u001b[39m\u001b[33m is installed?\u001b[39m\u001b[33m\"\u001b[39m\n\u001b[32m    640\u001b[39m     ) \u001b[38;5;28;01mfrom\u001b[39;00m\u001b[38;5;250m \u001b[39m\u001b[34;01mexc_import\u001b[39;00m\n\u001b[32m    641\u001b[39m \u001b[38;5;28;01mfor\u001b[39;00m m \u001b[38;5;129;01min\u001b[39;00m \u001b[38;5;28mrange\u001b[39m(\u001b[32m1\u001b[39m, \u001b[38;5;28mlen\u001b[39m(parts)):\n",
      "\u001b[31mImportError\u001b[39m: Error loading 'transformer_lens.HookedTransformer':\nModuleNotFoundError(\"No module named 'transformer_lens'\")\nAre you sure that module 'transformer_lens' is installed?",
      "\nThe above exception was the direct cause of the following exception:\n",
      "\u001b[31mInstantiationException\u001b[39m                    Traceback (most recent call last)",
      "\u001b[36mCell\u001b[39m\u001b[36m \u001b[39m\u001b[32mIn[4]\u001b[39m\u001b[32m, line 2\u001b[39m\n\u001b[32m      1\u001b[39m \u001b[38;5;66;03m# --- Checkpoints: list and load latest model ---\u001b[39;00m\n\u001b[32m----> \u001b[39m\u001b[32m2\u001b[39m steps = \u001b[43mloader\u001b[49m\u001b[43m.\u001b[49m\u001b[43mlist_checkpoints\u001b[49m\u001b[43m(\u001b[49m\u001b[43m)\u001b[49m\n\u001b[32m      3\u001b[39m \u001b[38;5;28mprint\u001b[39m(\u001b[33m'\u001b[39m\u001b[33mCheckpoints:\u001b[39m\u001b[33m'\u001b[39m, steps)\n\u001b[32m      4\u001b[39m latest = loader.latest_checkpoint()\n",
      "\u001b[36mFile \u001b[39m\u001b[32m~/Documents/GitHub/simplexity/simplexity/loaders/experiment_loader.py:49\u001b[39m, in \u001b[36mExperimentLoader.list_checkpoints\u001b[39m\u001b[34m(self)\u001b[39m\n\u001b[32m     48\u001b[39m \u001b[38;5;28;01mdef\u001b[39;00m\u001b[38;5;250m \u001b[39m\u001b[34mlist_checkpoints\u001b[39m(\u001b[38;5;28mself\u001b[39m) -> \u001b[38;5;28mlist\u001b[39m[\u001b[38;5;28mint\u001b[39m]:\n\u001b[32m---> \u001b[39m\u001b[32m49\u001b[39m     _, persister, _ = \u001b[38;5;28;43mself\u001b[39;49m\u001b[43m.\u001b[49m\u001b[43m_instantiate_model_and_persister\u001b[49m\u001b[43m(\u001b[49m\u001b[43m)\u001b[49m\n\u001b[32m     50\u001b[39m     \u001b[38;5;28;01mif\u001b[39;00m \u001b[38;5;129;01mnot\u001b[39;00m persister:\n\u001b[32m     51\u001b[39m         \u001b[38;5;28;01mreturn\u001b[39;00m []\n",
      "\u001b[36mFile \u001b[39m\u001b[32m~/Documents/GitHub/simplexity/simplexity/loaders/experiment_loader.py:40\u001b[39m, in \u001b[36mExperimentLoader._instantiate_model_and_persister\u001b[39m\u001b[34m(self)\u001b[39m\n\u001b[32m     38\u001b[39m \u001b[38;5;28;01mdef\u001b[39;00m\u001b[38;5;250m \u001b[39m\u001b[34m_instantiate_model_and_persister\u001b[39m(\u001b[38;5;28mself\u001b[39m) -> \u001b[38;5;28mtuple\u001b[39m[PredictiveModel, ModelPersister | \u001b[38;5;28;01mNone\u001b[39;00m, DictConfig]:\n\u001b[32m     39\u001b[39m     cfg = \u001b[38;5;28mself\u001b[39m.load_config()\n\u001b[32m---> \u001b[39m\u001b[32m40\u001b[39m     model = \u001b[43mtyped_instantiate\u001b[49m\u001b[43m(\u001b[49m\u001b[43mcfg\u001b[49m\u001b[43m.\u001b[49m\u001b[43mpredictive_model\u001b[49m\u001b[43m.\u001b[49m\u001b[43minstance\u001b[49m\u001b[43m,\u001b[49m\u001b[43m \u001b[49m\u001b[43mPredictiveModel\u001b[49m\u001b[43m)\u001b[49m\n\u001b[32m     41\u001b[39m     persister: ModelPersister | \u001b[38;5;28;01mNone\u001b[39;00m\n\u001b[32m     42\u001b[39m     \u001b[38;5;28;01mif\u001b[39;00m cfg.persistence:\n",
      "\u001b[36mFile \u001b[39m\u001b[32m~/Documents/GitHub/simplexity/simplexity/utils/hydra.py:10\u001b[39m, in \u001b[36mtyped_instantiate\u001b[39m\u001b[34m(config, expected_type, **kwargs)\u001b[39m\n\u001b[32m      8\u001b[39m \u001b[38;5;28;01mdef\u001b[39;00m\u001b[38;5;250m \u001b[39m\u001b[34mtyped_instantiate\u001b[39m(config: Any, expected_type: \u001b[38;5;28mtype\u001b[39m[T], **kwargs) -> T:\n\u001b[32m      9\u001b[39m \u001b[38;5;250m    \u001b[39m\u001b[33;03m\"\"\"Instantiate an object from config with proper typing.\"\"\"\u001b[39;00m\n\u001b[32m---> \u001b[39m\u001b[32m10\u001b[39m     obj = \u001b[43mhydra\u001b[49m\u001b[43m.\u001b[49m\u001b[43mutils\u001b[49m\u001b[43m.\u001b[49m\u001b[43minstantiate\u001b[49m\u001b[43m(\u001b[49m\u001b[43mconfig\u001b[49m\u001b[43m,\u001b[49m\u001b[43m \u001b[49m\u001b[43m*\u001b[49m\u001b[43m*\u001b[49m\u001b[43mkwargs\u001b[49m\u001b[43m)\u001b[49m\n\u001b[32m     11\u001b[39m     \u001b[38;5;28;01massert\u001b[39;00m \u001b[38;5;28misinstance\u001b[39m(obj, expected_type)\n\u001b[32m     12\u001b[39m     \u001b[38;5;28;01mreturn\u001b[39;00m obj\n",
      "\u001b[36mFile \u001b[39m\u001b[32m~/Documents/GitHub/simplexity/.venv/lib/python3.12/site-packages/hydra/_internal/instantiate/_instantiate2.py:226\u001b[39m, in \u001b[36minstantiate\u001b[39m\u001b[34m(config, *args, **kwargs)\u001b[39m\n\u001b[32m    223\u001b[39m     _convert_ = config.pop(_Keys.CONVERT, ConvertMode.NONE)\n\u001b[32m    224\u001b[39m     _partial_ = config.pop(_Keys.PARTIAL, \u001b[38;5;28;01mFalse\u001b[39;00m)\n\u001b[32m--> \u001b[39m\u001b[32m226\u001b[39m     \u001b[38;5;28;01mreturn\u001b[39;00m \u001b[43minstantiate_node\u001b[49m\u001b[43m(\u001b[49m\n\u001b[32m    227\u001b[39m \u001b[43m        \u001b[49m\u001b[43mconfig\u001b[49m\u001b[43m,\u001b[49m\u001b[43m \u001b[49m\u001b[43m*\u001b[49m\u001b[43margs\u001b[49m\u001b[43m,\u001b[49m\u001b[43m \u001b[49m\u001b[43mrecursive\u001b[49m\u001b[43m=\u001b[49m\u001b[43m_recursive_\u001b[49m\u001b[43m,\u001b[49m\u001b[43m \u001b[49m\u001b[43mconvert\u001b[49m\u001b[43m=\u001b[49m\u001b[43m_convert_\u001b[49m\u001b[43m,\u001b[49m\u001b[43m \u001b[49m\u001b[43mpartial\u001b[49m\u001b[43m=\u001b[49m\u001b[43m_partial_\u001b[49m\n\u001b[32m    228\u001b[39m \u001b[43m    \u001b[49m\u001b[43m)\u001b[49m\n\u001b[32m    229\u001b[39m \u001b[38;5;28;01melif\u001b[39;00m OmegaConf.is_list(config):\n\u001b[32m    230\u001b[39m     \u001b[38;5;66;03m# Finalize config (convert targets to strings, merge with kwargs)\u001b[39;00m\n\u001b[32m    231\u001b[39m     config_copy = copy.deepcopy(config)\n",
      "\u001b[36mFile \u001b[39m\u001b[32m~/Documents/GitHub/simplexity/.venv/lib/python3.12/site-packages/hydra/_internal/instantiate/_instantiate2.py:333\u001b[39m, in \u001b[36minstantiate_node\u001b[39m\u001b[34m(node, convert, recursive, partial, *args)\u001b[39m\n\u001b[32m    331\u001b[39m exclude_keys = \u001b[38;5;28mset\u001b[39m({\u001b[33m\"\u001b[39m\u001b[33m_target_\u001b[39m\u001b[33m\"\u001b[39m, \u001b[33m\"\u001b[39m\u001b[33m_convert_\u001b[39m\u001b[33m\"\u001b[39m, \u001b[33m\"\u001b[39m\u001b[33m_recursive_\u001b[39m\u001b[33m\"\u001b[39m, \u001b[33m\"\u001b[39m\u001b[33m_partial_\u001b[39m\u001b[33m\"\u001b[39m})\n\u001b[32m    332\u001b[39m \u001b[38;5;28;01mif\u001b[39;00m _is_target(node):\n\u001b[32m--> \u001b[39m\u001b[32m333\u001b[39m     _target_ = \u001b[43m_resolve_target\u001b[49m\u001b[43m(\u001b[49m\u001b[43mnode\u001b[49m\u001b[43m.\u001b[49m\u001b[43mget\u001b[49m\u001b[43m(\u001b[49m\u001b[43m_Keys\u001b[49m\u001b[43m.\u001b[49m\u001b[43mTARGET\u001b[49m\u001b[43m)\u001b[49m\u001b[43m,\u001b[49m\u001b[43m \u001b[49m\u001b[43mfull_key\u001b[49m\u001b[43m)\u001b[49m\n\u001b[32m    334\u001b[39m     kwargs = {}\n\u001b[32m    335\u001b[39m     is_partial = node.get(\u001b[33m\"\u001b[39m\u001b[33m_partial_\u001b[39m\u001b[33m\"\u001b[39m, \u001b[38;5;28;01mFalse\u001b[39;00m) \u001b[38;5;129;01mor\u001b[39;00m partial\n",
      "\u001b[36mFile \u001b[39m\u001b[32m~/Documents/GitHub/simplexity/.venv/lib/python3.12/site-packages/hydra/_internal/instantiate/_instantiate2.py:139\u001b[39m, in \u001b[36m_resolve_target\u001b[39m\u001b[34m(target, full_key)\u001b[39m\n\u001b[32m    137\u001b[39m         \u001b[38;5;28;01mif\u001b[39;00m full_key:\n\u001b[32m    138\u001b[39m             msg += \u001b[33mf\u001b[39m\u001b[33m\"\u001b[39m\u001b[38;5;130;01m\\n\u001b[39;00m\u001b[33mfull_key: \u001b[39m\u001b[38;5;132;01m{\u001b[39;00mfull_key\u001b[38;5;132;01m}\u001b[39;00m\u001b[33m\"\u001b[39m\n\u001b[32m--> \u001b[39m\u001b[32m139\u001b[39m         \u001b[38;5;28;01mraise\u001b[39;00m InstantiationException(msg) \u001b[38;5;28;01mfrom\u001b[39;00m\u001b[38;5;250m \u001b[39m\u001b[34;01me\u001b[39;00m\n\u001b[32m    140\u001b[39m \u001b[38;5;28;01mif\u001b[39;00m \u001b[38;5;129;01mnot\u001b[39;00m \u001b[38;5;28mcallable\u001b[39m(target):\n\u001b[32m    141\u001b[39m     msg = \u001b[33mf\u001b[39m\u001b[33m\"\u001b[39m\u001b[33mExpected a callable target, got \u001b[39m\u001b[33m'\u001b[39m\u001b[38;5;132;01m{\u001b[39;00mtarget\u001b[38;5;132;01m}\u001b[39;00m\u001b[33m'\u001b[39m\u001b[33m of type \u001b[39m\u001b[33m'\u001b[39m\u001b[38;5;132;01m{\u001b[39;00m\u001b[38;5;28mtype\u001b[39m(target).\u001b[34m__name__\u001b[39m\u001b[38;5;132;01m}\u001b[39;00m\u001b[33m'\u001b[39m\u001b[33m\"\u001b[39m\n",
      "\u001b[31mInstantiationException\u001b[39m: Error locating target 'transformer_lens.HookedTransformer', set env var HYDRA_FULL_ERROR=1 to see chained exception.\nfull_key: predictive_model.instance"
     ]
    }
   ],
   "source": [
    "# --- Checkpoints: list and load latest model ---\n",
    "steps = loader.list_checkpoints()\n",
    "print('Checkpoints:', steps)\n",
    "latest = loader.latest_checkpoint()\n",
    "print('Latest checkpoint:', latest)\n",
    "\n",
    "try:\n",
    "    model = loader.load_model(step=\"latest\")\n",
    "    print('Model loaded successfully:', type(model))\n",
    "except Exception as e:\n",
    "    print('Could not load model:', e)\n"
   ]
  },
  {
   "cell_type": "code",
   "execution_count": null,
   "metadata": {},
   "outputs": [],
   "source": [
    "# --- Load metrics (all) and a filtered view (e.g., validation/*) ---\n",
    "import pandas as pd\n",
    "\n",
    "df_all = loader.load_metrics()\n",
    "display(df_all.head())\n",
    "\n",
    "df_val = loader.load_metrics(pattern=\"validation/*\")\n",
    "display(df_val.head())\n",
    "print(f'Total metrics rows: all={len(df_all)}, validation={len(df_val)}')\n"
   ]
  },
  {
   "cell_type": "code",
   "execution_count": null,
   "metadata": {},
   "outputs": [],
   "source": [
    "# --- Quick plot (optional) ---\n",
    "import matplotlib.pyplot as plt\n",
    "\n",
    "if not df_val.empty:\n",
    "    for metric in sorted(df_val['metric'].unique())[:3]:\n",
    "        sub = df_val[df_val['metric'] == metric]\n",
    "        plt.plot(sub['step'], sub['value'], label=metric)\n",
    "    plt.xlabel('step')\n",
    "    plt.ylabel('value')\n",
    "    plt.title('Validation metrics (subset)')\n",
    "    plt.legend()\n",
    "    plt.show()\n",
    "else:\n",
    "    print('No validation/* metrics to plot.')\n"
   ]
  },
  {
   "cell_type": "markdown",
   "metadata": {},
   "source": [
    "## Notes\n",
    "- `ExperimentLoader` reconstructs the model and persister from the saved Hydra `config.yaml` artifact.\n",
    "- Checkpoint discovery is provided by persisters (`list_checkpoints`, `latest_checkpoint`).\n",
    "- If the run has no persistence configured or no checkpoints, loading the model will raise an error (caught above).\n",
    "- You can use glob-style metric filters, e.g., `validation/*`."
   ]
  }
 ],
 "metadata": {
  "kernelspec": {
   "display_name": ".venv",
   "language": "python",
   "name": "python3"
  },
  "language_info": {
   "codemirror_mode": {
    "name": "ipython",
    "version": 3
   },
   "file_extension": ".py",
   "mimetype": "text/x-python",
   "name": "python",
   "nbconvert_exporter": "python",
   "pygments_lexer": "ipython3",
   "version": "3.12.6"
  }
 },
 "nbformat": 4,
 "nbformat_minor": 5
}
