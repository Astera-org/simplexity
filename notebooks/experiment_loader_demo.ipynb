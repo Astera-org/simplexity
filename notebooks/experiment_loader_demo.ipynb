{
 "cells": [
  {
   "cell_type": "markdown",
   "metadata": {},
   "source": [
    "# ExperimentLoader Demo\n",
    "\n",
    "This notebook demonstrates how to use `ExperimentLoader` to load and analyze MLflow experiments, including configuration, metrics, checkpoints, and trained models.\n",
    "\n",
    "## Prerequisites\n",
    "\n",
    "- **MLflow Access**: Databricks credentials (host/token)\n",
    "- **S3 Access**: AWS credentials and config.ini for checkpoint loading\n",
    "- **Dependencies**: Model packages (e.g., transformer-lens)\n",
    "\n",
    "## Usage Patterns\n",
    "\n",
    "### Basic Usage\n",
    "```python\n",
    "from simplexity.loaders import ExperimentLoader\n",
    "\n",
    "# Initialize loader\n",
    "loader = ExperimentLoader.from_mlflow(\n",
    "    run_id=\"your-run-id\",\n",
    "    tracking_uri=\"databricks\",\n",
    "    config_path=\"path/to/config.ini\"  # Optional: for S3 checkpoints\n",
    ")\n",
    "```\n",
    "\n",
    "### Load Different Data Types\n",
    "```python\n",
    "# Configuration\n",
    "config = loader.load_config()\n",
    "\n",
    "# Metrics (all or filtered)\n",
    "all_metrics = loader.load_metrics()\n",
    "val_metrics = loader.load_metrics(pattern=\"validation/*\")\n",
    "\n",
    "# Checkpoints\n",
    "checkpoints = loader.list_checkpoints()\n",
    "latest_step = loader.latest_checkpoint()\n",
    "\n",
    "# Model (requires checkpoints + dependencies)\n",
    "model = loader.load_model(step=\"latest\")\n",
    "```"
   ]
  },
  {
   "cell_type": "markdown",
   "metadata": {},
   "source": [
    "## Example: Loading a Transformer Experiment\n",
    "\n",
    "Let's walk through loading a complete experiment."
   ]
  },
  {
   "cell_type": "code",
   "execution_count": 13,
   "metadata": {},
   "outputs": [
    {
     "name": "stdout",
     "output_type": "stream",
     "text": [
      "🔍 Run ID: 138baafac5a34726ab070bb1be72a83d\n",
      "📍 Tracking URI: databricks\n",
      "🔧 Config: /Users/adamimos/Documents/GitHub/simplexity/config.ini\n"
     ]
    }
   ],
   "source": [
    "# --- Setup ---\n",
    "import os\n",
    "from simplexity.loaders import ExperimentLoader\n",
    "import pandas as pd\n",
    "import matplotlib.pyplot as plt\n",
    "\n",
    "# Configuration\n",
    "run_id = \"138baafac5a34726ab070bb1be72a83d\"\n",
    "tracking_uri = \"databricks\"\n",
    "config_path = os.path.join('..', 'config.ini') if os.path.basename(os.getcwd()) == 'notebooks' else 'config.ini'\n",
    "\n",
    "print(f\"🔍 Run ID: {run_id}\")\n",
    "print(f\"📍 Tracking URI: {tracking_uri}\")\n",
    "print(f\"🔧 Config: {os.path.abspath(config_path)}\")"
   ]
  },
  {
   "cell_type": "code",
   "execution_count": 14,
   "metadata": {},
   "outputs": [
    {
     "name": "stdout",
     "output_type": "stream",
     "text": [
      "✅ ExperimentLoader initialized\n"
     ]
    }
   ],
   "source": [
    "# --- Initialize ExperimentLoader ---\n",
    "loader = ExperimentLoader.from_mlflow(\n",
    "    run_id=run_id,\n",
    "    tracking_uri=tracking_uri,\n",
    "    config_path=config_path\n",
    ")\n",
    "print(\"✅ ExperimentLoader initialized\")"
   ]
  },
  {
   "cell_type": "code",
   "execution_count": 15,
   "metadata": {},
   "outputs": [
    {
     "name": "stdout",
     "output_type": "stream",
     "text": [
      "📋 Loading experiment configuration...\n"
     ]
    },
    {
     "data": {
      "application/vnd.jupyter.widget-view+json": {
       "model_id": "b9b927a6608c464883ec7dbae494ff4c",
       "version_major": 2,
       "version_minor": 0
      },
      "text/plain": [
       "Downloading artifacts:   0%|          | 0/1 [00:00<?, ?it/s]"
      ]
     },
     "metadata": {},
     "output_type": "display_data"
    },
    {
     "name": "stdout",
     "output_type": "stream",
     "text": [
      "🎯 Experiment: example_basic_mess3\n",
      "🏃 Run: 2025-09-09_22-09-10_example_basic_mess3_42\n",
      "🤖 Model: transformer_lens.HookedTransformer\n",
      "💾 Persistence: True\n",
      "📦 Persister: simplexity.persistence.s3_persister.S3Persister.from_config\n"
     ]
    }
   ],
   "source": [
    "# --- 1. Load Configuration ---\n",
    "print(\"📋 Loading experiment configuration...\")\n",
    "config = loader.load_config()\n",
    "\n",
    "print(f\"🎯 Experiment: {config.experiment_name}\")\n",
    "print(f\"🏃 Run: {config.run_name}\")\n",
    "print(f\"🤖 Model: {config.predictive_model.instance._target_}\")\n",
    "print(f\"💾 Persistence: {bool(config.persistence)}\")\n",
    "\n",
    "if config.persistence:\n",
    "    print(f\"📦 Persister: {config.persistence.instance._target_}\")"
   ]
  },
  {
   "cell_type": "code",
   "execution_count": 16,
   "metadata": {},
   "outputs": [
    {
     "name": "stdout",
     "output_type": "stream",
     "text": [
      "📊 Loading metrics...\n",
      "📈 Total metrics: 110,102 entries\n",
      "🎯 Validation metrics: 102 entries\n",
      "\n",
      "📋 Available metrics (13 types):\n",
      "   • avg_tokens_per_second: 10000 points\n",
      "   • grad_norm: 10000 points\n",
      "   • learning_rate: 10000 points\n",
      "   • loss: 10000 points\n",
      "   • max_memory_allocated_gb: 10000 points\n",
      "   • memory_allocated_gb: 10000 points\n",
      "   • memory_reserved_gb: 10000 points\n",
      "   • step_time_seconds: 10000 points\n",
      "   ... and 5 more\n"
     ]
    }
   ],
   "source": [
    "# --- 2. Load Metrics ---\n",
    "print(\"📊 Loading metrics...\")\n",
    "\n",
    "# All metrics\n",
    "df_all = loader.load_metrics()\n",
    "print(f\"📈 Total metrics: {len(df_all):,} entries\")\n",
    "\n",
    "# Validation metrics only\n",
    "df_val = loader.load_metrics(pattern=\"validation/*\")\n",
    "print(f\"🎯 Validation metrics: {len(df_val):,} entries\")\n",
    "\n",
    "# Show available metric types\n",
    "metric_types = sorted(df_all['metric'].unique())\n",
    "print(f\"\\n📋 Available metrics ({len(metric_types)} types):\")\n",
    "for metric in metric_types[:8]:  # Show first 8\n",
    "    count = len(df_all[df_all['metric'] == metric])\n",
    "    print(f\"   • {metric}: {count} points\")\n",
    "if len(metric_types) > 8:\n",
    "    print(f\"   ... and {len(metric_types) - 8} more\")"
   ]
  },
  {
   "cell_type": "code",
   "execution_count": 17,
   "metadata": {},
   "outputs": [
    {
     "name": "stdout",
     "output_type": "stream",
     "text": [
      "🔍 Discovering checkpoints...\n",
      "📂 Found 21 checkpoints\n",
      "   Range: 0 → 10000\n",
      "   Latest: 10000\n",
      "   All: [0, 500, 1000, 1500, 2000, 2500, 3000, 3500, 4000, 4500, 5000, 5500, 6000, 6500, 7000, 7500, 8000, 8500, 9000, 9500, 10000]\n"
     ]
    }
   ],
   "source": [
    "# --- 3. Discover Checkpoints ---\n",
    "print(\"🔍 Discovering checkpoints...\")\n",
    "\n",
    "checkpoints = loader.list_checkpoints()\n",
    "latest = loader.latest_checkpoint()\n",
    "\n",
    "print(f\"📂 Found {len(checkpoints)} checkpoints\")\n",
    "if checkpoints:\n",
    "    print(f\"   Range: {min(checkpoints)} → {max(checkpoints)}\")\n",
    "    print(f\"   Latest: {latest}\")\n",
    "    print(f\"   All: {checkpoints}\")\n",
    "else:\n",
    "    print(\"   ❌ No checkpoints found (S3 access may be required)\")"
   ]
  },
  {
   "cell_type": "code",
   "execution_count": 18,
   "metadata": {},
   "outputs": [
    {
     "name": "stdout",
     "output_type": "stream",
     "text": [
      "🤖 Loading trained model...\n",
      "❌ Could not load model: Failed to instantiate predictive model from run config.\n",
      "Ensure the model's Python package is installed (e.g., `transformer_lens`).\n",
      "Underlying error: Error in call to target 'transformer_lens.HookedTransformer.HookedTransformer':\n",
      "RuntimeError('Expected one of cpu, cuda, ipu, xpu, mkldnn, opengl, opencl, ideep, hip, ve, fpga, maia, xla, lazy, vulkan, mps, meta, hpu, mtia, privateuseone device type at start of device string: auto')\n",
      "full_key: predictive_model.instance\n",
      "💡 Install missing dependencies: uv add transformer-lens\n"
     ]
    }
   ],
   "source": [
    "# --- 4. Load Model ---\n",
    "print(\"🤖 Loading trained model...\")\n",
    "\n",
    "try:\n",
    "    model = loader.load_model(step=\"latest\")\n",
    "    print(f\"✅ Model loaded successfully!\")\n",
    "    print(f\"   Type: {type(model).__name__}\")\n",
    "    \n",
    "    # Get model info\n",
    "    try:\n",
    "        param_count = sum(p.numel() for p in model.parameters())\n",
    "        device = next(model.parameters()).device\n",
    "        print(f\"   Parameters: {param_count:,}\")\n",
    "        print(f\"   Device: {device}\")\n",
    "    except Exception:\n",
    "        print(f\"   Model details: [unable to inspect]\")\n",
    "        \n",
    "except Exception as e:\n",
    "    print(f\"❌ Could not load model: {e}\")\n",
    "    if \"transformer_lens\" in str(e):\n",
    "        print(\"💡 Install missing dependencies: uv add transformer-lens\")\n",
    "    elif \"checkpoints\" in str(e).lower():\n",
    "        print(\"💡 Ensure S3 access is configured in config.ini\")"
   ]
  },
  {
   "cell_type": "code",
   "execution_count": 19,
   "metadata": {},
   "outputs": [
    {
     "name": "stdout",
     "output_type": "stream",
     "text": [
      "📈 Plotting validation metrics...\n"
     ]
    },
    {
     "data": {
      "image/png": "[encoded data removed]",
      "text/plain": [
       "<Figure size 1000x400 with 2 Axes>"
      ]
     },
     "metadata": {},
     "output_type": "display_data"
    }
   ],
   "source": [
    "# --- 5. Visualize Training Progress ---\n",
    "if not df_val.empty:\n",
    "    print(\"📈 Plotting validation metrics...\")\n",
    "    \n",
    "    val_metrics = sorted(df_val['metric'].unique())\n",
    "    n_metrics = min(len(val_metrics), 3)  # Show up to 3 metrics\n",
    "    \n",
    "    fig, axes = plt.subplots(1, n_metrics, figsize=(5*n_metrics, 4))\n",
    "    if n_metrics == 1:\n",
    "        axes = [axes]\n",
    "    \n",
    "    for i, metric in enumerate(val_metrics[:n_metrics]):\n",
    "        data = df_val[df_val['metric'] == metric].sort_values('step')\n",
    "        axes[i].plot(data['step'], data['value'], 'b-', linewidth=2)\n",
    "        axes[i].set_title(metric.replace('validation/', ''), fontsize=12)\n",
    "        axes[i].set_xlabel('Training Step')\n",
    "        axes[i].set_ylabel('Value')\n",
    "        axes[i].grid(True, alpha=0.3)\n",
    "        \n",
    "        # Add final value annotation\n",
    "        if len(data) > 0:\n",
    "            final_val = data['value'].iloc[-1]\n",
    "            final_step = data['step'].iloc[-1]\n",
    "            axes[i].annotate(f'{final_val:.3f}', \n",
    "                           xy=(final_step, final_val),\n",
    "                           xytext=(10, 10), textcoords='offset points',\n",
    "                           bbox=dict(boxstyle='round,pad=0.3', facecolor='white', alpha=0.8))\n",
    "    \n",
    "    plt.tight_layout()\n",
    "    plt.show()\n",
    "else:\n",
    "    print(\"📈 No validation metrics available for plotting\")"
   ]
  },
  {
   "cell_type": "markdown",
   "metadata": {},
   "source": [
    "## Summary\n",
    "\n",
    "The `ExperimentLoader` provides a unified interface for loading MLflow experiments:\n",
    "\n",
    "### ✅ Core Features\n",
    "- **Configuration**: Reconstructs complete Hydra configs from MLflow artifacts\n",
    "- **Metrics**: Loads training/validation metrics with pattern filtering\n",
    "- **Checkpoints**: Discovers available model checkpoints from S3\n",
    "- **Models**: Reloads trained models with proper device handling\n",
    "\n",
    "### 🔧 Key Methods\n",
    "- `ExperimentLoader.from_mlflow(run_id, tracking_uri, config_path)`\n",
    "- `loader.load_config()` - Get experiment configuration\n",
    "- `loader.load_metrics(pattern=...)` - Load metrics with optional filtering\n",
    "- `loader.list_checkpoints()` - Discover available checkpoints\n",
    "- `loader.load_model(step=...)` - Load trained model\n",
    "\n",
    "### 📋 Requirements\n",
    "- MLflow access (Databricks credentials)\n",
    "- S3 access (AWS credentials + config.ini) for checkpoints\n",
    "- Model dependencies (e.g., transformer-lens) for model loading"
   ]
  }
 ],
 "metadata": {
  "kernelspec": {
   "display_name": "Python 3",
   "language": "python",
   "name": "python3"
  },
  "language_info": {
   "codemirror_mode": {
    "name": "ipython",
    "version": 3
   },
   "file_extension": ".py",
   "mimetype": "text/x-python",
   "name": "python",
   "nbconvert_exporter": "python",
   "pygments_lexer": "ipython3",
   "version": "3.12.0"
  }
 },
 "nbformat": 4,
 "nbformat_minor": 2
}
