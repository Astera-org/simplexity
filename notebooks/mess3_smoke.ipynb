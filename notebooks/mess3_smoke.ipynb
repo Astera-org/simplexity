{
  "cells": [
    {
      "cell_type": "markdown",
      "metadata": {},
      "source": [
        "# Mess3 generator smoke test\n",
        "\n",
        "This notebook builds a simple `mess3` hidden Markov model and prints a few generated symbols.\n"
      ]
    },
    {
      "cell_type": "code",
      "execution_count": 1,
      "metadata": {},
      "outputs": [
        {
          "name": "stdout",
          "output_type": "stream",
          "text": [
            "Generated observations: [0, 2, 0, 2, 2, 0, 0, 1, 2, 1]\n"
          ]
        }
      ],
      "source": [
        "# pyright: reportMissingImports=false\n",
        "import jax\n",
        "\n",
        "from simplexity.generative_processes.builder import build_hidden_markov_model\n",
        "\n",
        "# Instantiate mess3 with defaults from config (x=0.15, a=0.6)\n",
        "model = build_hidden_markov_model(\"mess3\", x=0.15, a=0.6)\n",
        "\n",
        "# Initial belief state: use the model's normalizing_eigenvector as a valid distribution\n",
        "state = model.normalizing_eigenvector[None, :]\n",
        "\n",
        "# Generate a short sequence\n",
        "key = jax.random.PRNGKey(0)[None, :]\n",
        "sequence_len = 10\n",
        "final_state, observations = model.generate(state, key, sequence_len, False)\n",
        "\n",
        "print(\"Generated observations:\", observations.squeeze().tolist())\n"
      ]
    },
    {
      "cell_type": "code",
      "execution_count": 2,
      "metadata": {},
      "outputs": [
        {
          "name": "stdout",
          "output_type": "stream",
          "text": [
            "t=00 obs=0 belief=[0.3333333432674408, 0.3333333432674408, 0.3333333432674408]\n",
            "t=01 obs=2 belief=[0.6000000238418579, 0.20000000298023224, 0.20000000298023224]\n",
            "t=02 obs=0 belief=[0.31578949093818665, 0.17105263471603394, 0.5131579041481018]\n",
            "t=03 obs=2 belief=[0.5894569158554077, 0.14816294610500336, 0.2623802125453949]\n",
            "t=04 obs=2 belief=[0.2984992265701294, 0.145717591047287, 0.555783212184906]\n",
            "t=05 obs=0 belief=[0.16437214612960815, 0.12040877342224121, 0.7152190804481506]\n",
            "t=06 obs=0 belief=[0.4870404005050659, 0.14601799845695496, 0.36694154143333435]\n",
            "t=07 obs=1 belief=[0.6828927993774414, 0.12545859813690186, 0.19164860248565674]\n",
            "t=08 obs=2 belief=[0.365500271320343, 0.456887811422348, 0.17761191725730896]\n",
            "t=09 obs=1 belief=[0.23474085330963135, 0.26835331320762634, 0.4969058632850647]\n"
          ]
        }
      ],
      "source": [
        "# pyright: reportMissingImports=false\n",
        "# Generate again but keep all intermediate belief states (priors)\n",
        "states_per_step, obs = model.generate(state, key, sequence_len, True)\n",
        "\n",
        "# Normalize belief states to probabilities per step\n",
        "beliefs = jax.vmap(model.normalize_belief_state)(states_per_step.squeeze(0))\n",
        "\n",
        "for t, (o, b) in enumerate(zip(obs.squeeze(0).tolist(), beliefs.tolist())):\n",
        "\tprint(f\"t={t:02d} obs={o} belief={b}\")\n"
      ]
    },
    {
      "cell_type": "code",
      "execution_count": null,
      "metadata": {},
      "outputs": [],
      "source": [
        "# pyright: reportMissingImports=false\n",
        "import itertools\n",
        "\n",
        "from simplexity.generative_processes.builder import build_product_hidden_markov_model\n",
        "\n",
        "# Build a product of two mess3 generators\n",
        "prod_model = build_product_hidden_markov_model(\n",
        "\tprocess_names=[\"mess3\", \"mess3\"],\n",
        "\tprocess_kwargs=[{\"x\": 0.15, \"a\": 0.6}, {\"x\": 0.2, \"a\": 0.5}],\n",
        ")\n",
        "\n",
        "# Initial state for the product model\n",
        "prod_state = prod_model.normalizing_eigenvector[None, :]\n",
        "\n",
        "# Generate a few steps and print observations as tuples and beliefs\n",
        "prod_final_state, prod_obs = prod_model.generate(prod_state, key, sequence_len, False)\n",
        "\n",
        "# Decode product observations back to tuples for readability\n",
        "vocab_sizes = [3, 3]\n",
        "\n",
        "def unravel_index(idx: int, dims: list[int]) -> tuple[int, ...]:\n",
        "\tcoords = []\n",
        "\tfor d in reversed(dims):\n",
        "\t\tcoords.append(idx % d)\n",
        "\t\tidx //= d\n",
        "\treturn tuple(reversed(coords))\n",
        "\n",
        "obs_tuples = [unravel_index(int(o), vocab_sizes) for o in prod_obs.squeeze(0).tolist()]\n",
        "print(\"Product observations (tuples):\", obs_tuples)\n",
        "\n",
        "# Now with all states and beliefs\n",
        "prod_states_per_step, prod_obs_all = prod_model.generate(prod_state, key, sequence_len, True)\n",
        "prod_beliefs = jax.vmap(prod_model.normalize_belief_state)(prod_states_per_step.squeeze(0))\n",
        "\n",
        "for t, (o, b) in enumerate(zip(prod_obs_all.squeeze(0).tolist(), prod_beliefs.tolist())):\n",
        "\tprint(f\"t={t:02d} obs={unravel_index(int(o), vocab_sizes)} belief_dim={len(b)}\")\n"
      ]
    },
    {
      "cell_type": "code",
      "execution_count": null,
      "metadata": {},
      "outputs": [],
      "source": []
    }
  ],
  "metadata": {
    "kernelspec": {
      "display_name": ".venv",
      "language": "python",
      "name": "python3"
    },
    "language_info": {
      "codemirror_mode": {
        "name": "ipython",
        "version": 3
      },
      "file_extension": ".py",
      "mimetype": "text/x-python",
      "name": "python",
      "nbconvert_exporter": "python",
      "pygments_lexer": "ipython3",
      "version": "3.12.6"
    }
  },
  "nbformat": 4,
  "nbformat_minor": 2
}
