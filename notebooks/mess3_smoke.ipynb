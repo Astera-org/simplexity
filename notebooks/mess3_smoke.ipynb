{
  "cells": [
    {
      "cell_type": "markdown",
      "metadata": {},
      "source": [
        "# Mess3 generator smoke test\n",
        "\n",
        "This notebook builds a simple `mess3` hidden Markov model and prints a few generated symbols.\n"
      ]
    },
    {
      "cell_type": "code",
      "execution_count": null,
      "metadata": {},
      "outputs": [],
      "source": [
        "# pyright: reportMissingImports=false\n",
        "import jax\n",
        "\n",
        "from simplexity.generative_processes.builder import build_hidden_markov_model\n",
        "\n",
        "# Instantiate mess3 with defaults from config (x=0.15, a=0.6)\n",
        "model = build_hidden_markov_model(\"mess3\", x=0.15, a=0.6)\n",
        "\n",
        "# Initial belief state: use the model's normalizing_eigenvector as a valid distribution\n",
        "state = model.normalizing_eigenvector[None, :]\n",
        "\n",
        "# Generate a short sequence\n",
        "key = jax.random.PRNGKey(0)[None, :]\n",
        "sequence_len = 10\n",
        "final_state, observations = model.generate(state, key, sequence_len, False)\n",
        "\n",
        "print(\"Generated observations:\", observations.squeeze().tolist())\n"
      ]
    }
  ],
  "metadata": {
    "language_info": {
      "name": "python"
    }
  },
  "nbformat": 4,
  "nbformat_minor": 2
}
