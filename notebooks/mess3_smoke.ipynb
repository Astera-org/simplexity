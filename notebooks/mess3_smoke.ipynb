{
  "cells": [
    {
      "cell_type": "markdown",
      "metadata": {},
      "source": [
        "# Mess3 generator smoke test\n",
        "\n",
        "This notebook builds a simple `mess3` hidden Markov model and prints a few generated symbols.\n"
      ]
    },
    {
      "cell_type": "code",
      "execution_count": 1,
      "metadata": {},
      "outputs": [
        {
          "name": "stdout",
          "output_type": "stream",
          "text": [
            "Generated observations: [0, 2, 0, 2, 2, 0, 0, 1, 2, 1]\n"
          ]
        }
      ],
      "source": [
        "# pyright: reportMissingImports=false\n",
        "import jax\n",
        "\n",
        "from simplexity.generative_processes.builder import build_hidden_markov_model\n",
        "\n",
        "# Instantiate mess3 with defaults from config (x=0.15, a=0.6)\n",
        "model = build_hidden_markov_model(\"mess3\", x=0.15, a=0.6)\n",
        "\n",
        "# Initial belief state: use the model's normalizing_eigenvector as a valid distribution\n",
        "state = model.normalizing_eigenvector[None, :]\n",
        "\n",
        "# Generate a short sequence\n",
        "key = jax.random.PRNGKey(0)[None, :]\n",
        "sequence_len = 10\n",
        "final_state, observations = model.generate(state, key, sequence_len, False)\n",
        "\n",
        "print(\"Generated observations:\", observations.squeeze().tolist())\n"
      ]
    },
    {
      "cell_type": "code",
      "execution_count": null,
      "metadata": {},
      "outputs": [],
      "source": [
        "# pyright: reportMissingImports=false\n",
        "# Generate again but keep all intermediate belief states (priors)\n",
        "states_per_step, obs = model.generate(state, key, sequence_len, True)\n",
        "\n",
        "# Normalize belief states to probabilities per step\n",
        "beliefs = jax.vmap(model.normalize_belief_state)(states_per_step.squeeze(0))\n",
        "\n",
        "for t, (o, b) in enumerate(zip(obs.squeeze(0).tolist(), beliefs.tolist())):\n",
        "\tprint(f\"t={t:02d} obs={o} belief={b}\")\n"
      ]
    },
    {
      "cell_type": "code",
      "execution_count": null,
      "metadata": {},
      "outputs": [],
      "source": []
    }
  ],
  "metadata": {
    "kernelspec": {
      "display_name": ".venv",
      "language": "python",
      "name": "python3"
    },
    "language_info": {
      "codemirror_mode": {
        "name": "ipython",
        "version": 3
      },
      "file_extension": ".py",
      "mimetype": "text/x-python",
      "name": "python",
      "nbconvert_exporter": "python",
      "pygments_lexer": "ipython3",
      "version": "3.12.6"
    }
  },
  "nbformat": 4,
  "nbformat_minor": 2
}
